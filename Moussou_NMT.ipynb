{
  "nbformat": 4,
  "nbformat_minor": 0,
  "metadata": {
    "kernelspec": {
      "display_name": "Python 3",
      "language": "python",
      "name": "python3"
    },
    "language_info": {
      "codemirror_mode": {
        "name": "ipython",
        "version": 3
      },
      "file_extension": ".py",
      "mimetype": "text/x-python",
      "name": "python",
      "nbconvert_exporter": "python",
      "pygments_lexer": "ipython3",
      "version": "3.6.2"
    },
    "colab": {
      "name": "Moussou_NMT.ipynb",
      "provenance": []
    },
    "widgets": {
      "application/vnd.jupyter.widget-state+json": {
        "3b345451c1cd4cca8de7056e4cc346dc": {
          "model_module": "@jupyter-widgets/controls",
          "model_name": "HBoxModel",
          "state": {
            "_view_name": "HBoxView",
            "_dom_classes": [],
            "_model_name": "HBoxModel",
            "_view_module": "@jupyter-widgets/controls",
            "_model_module_version": "1.5.0",
            "_view_count": null,
            "_view_module_version": "1.5.0",
            "box_style": "",
            "layout": "IPY_MODEL_c07558771b3a467d90de7830236e57d1",
            "_model_module": "@jupyter-widgets/controls",
            "children": [
              "IPY_MODEL_82c27fc91e65493aba77765cc4a677ef",
              "IPY_MODEL_931ba583c4624ec688fc788dc8c8be2d"
            ]
          }
        },
        "c07558771b3a467d90de7830236e57d1": {
          "model_module": "@jupyter-widgets/base",
          "model_name": "LayoutModel",
          "state": {
            "_view_name": "LayoutView",
            "grid_template_rows": null,
            "right": null,
            "justify_content": null,
            "_view_module": "@jupyter-widgets/base",
            "overflow": null,
            "_model_module_version": "1.2.0",
            "_view_count": null,
            "flex_flow": null,
            "width": null,
            "min_width": null,
            "border": null,
            "align_items": null,
            "bottom": null,
            "_model_module": "@jupyter-widgets/base",
            "top": null,
            "grid_column": null,
            "overflow_y": null,
            "overflow_x": null,
            "grid_auto_flow": null,
            "grid_area": null,
            "grid_template_columns": null,
            "flex": null,
            "_model_name": "LayoutModel",
            "justify_items": null,
            "grid_row": null,
            "max_height": null,
            "align_content": null,
            "visibility": null,
            "align_self": null,
            "height": null,
            "min_height": null,
            "padding": null,
            "grid_auto_rows": null,
            "grid_gap": null,
            "max_width": null,
            "order": null,
            "_view_module_version": "1.2.0",
            "grid_template_areas": null,
            "object_position": null,
            "object_fit": null,
            "grid_auto_columns": null,
            "margin": null,
            "display": null,
            "left": null
          }
        },
        "82c27fc91e65493aba77765cc4a677ef": {
          "model_module": "@jupyter-widgets/controls",
          "model_name": "FloatProgressModel",
          "state": {
            "_view_name": "ProgressView",
            "style": "IPY_MODEL_9d50b9acb9414030a220e8fe45cb1df8",
            "_dom_classes": [],
            "description": "100%",
            "_model_name": "FloatProgressModel",
            "bar_style": "success",
            "max": 6,
            "_view_module": "@jupyter-widgets/controls",
            "_model_module_version": "1.5.0",
            "value": 6,
            "_view_count": null,
            "_view_module_version": "1.5.0",
            "orientation": "horizontal",
            "min": 0,
            "description_tooltip": null,
            "_model_module": "@jupyter-widgets/controls",
            "layout": "IPY_MODEL_1900afe4fe1743e493f6aaf20bc3a87c"
          }
        },
        "931ba583c4624ec688fc788dc8c8be2d": {
          "model_module": "@jupyter-widgets/controls",
          "model_name": "HTMLModel",
          "state": {
            "_view_name": "HTMLView",
            "style": "IPY_MODEL_f3280cb2ac08485dbe9608b501684ed2",
            "_dom_classes": [],
            "description": "",
            "_model_name": "HTMLModel",
            "placeholder": "​",
            "_view_module": "@jupyter-widgets/controls",
            "_model_module_version": "1.5.0",
            "value": " 6/6 [03:52&lt;00:00, 38.77s/it]",
            "_view_count": null,
            "_view_module_version": "1.5.0",
            "description_tooltip": null,
            "_model_module": "@jupyter-widgets/controls",
            "layout": "IPY_MODEL_7ae0879d5afc479782ea18da465bfecd"
          }
        },
        "9d50b9acb9414030a220e8fe45cb1df8": {
          "model_module": "@jupyter-widgets/controls",
          "model_name": "ProgressStyleModel",
          "state": {
            "_view_name": "StyleView",
            "_model_name": "ProgressStyleModel",
            "description_width": "initial",
            "_view_module": "@jupyter-widgets/base",
            "_model_module_version": "1.5.0",
            "_view_count": null,
            "_view_module_version": "1.2.0",
            "bar_color": null,
            "_model_module": "@jupyter-widgets/controls"
          }
        },
        "1900afe4fe1743e493f6aaf20bc3a87c": {
          "model_module": "@jupyter-widgets/base",
          "model_name": "LayoutModel",
          "state": {
            "_view_name": "LayoutView",
            "grid_template_rows": null,
            "right": null,
            "justify_content": null,
            "_view_module": "@jupyter-widgets/base",
            "overflow": null,
            "_model_module_version": "1.2.0",
            "_view_count": null,
            "flex_flow": null,
            "width": null,
            "min_width": null,
            "border": null,
            "align_items": null,
            "bottom": null,
            "_model_module": "@jupyter-widgets/base",
            "top": null,
            "grid_column": null,
            "overflow_y": null,
            "overflow_x": null,
            "grid_auto_flow": null,
            "grid_area": null,
            "grid_template_columns": null,
            "flex": null,
            "_model_name": "LayoutModel",
            "justify_items": null,
            "grid_row": null,
            "max_height": null,
            "align_content": null,
            "visibility": null,
            "align_self": null,
            "height": null,
            "min_height": null,
            "padding": null,
            "grid_auto_rows": null,
            "grid_gap": null,
            "max_width": null,
            "order": null,
            "_view_module_version": "1.2.0",
            "grid_template_areas": null,
            "object_position": null,
            "object_fit": null,
            "grid_auto_columns": null,
            "margin": null,
            "display": null,
            "left": null
          }
        },
        "f3280cb2ac08485dbe9608b501684ed2": {
          "model_module": "@jupyter-widgets/controls",
          "model_name": "DescriptionStyleModel",
          "state": {
            "_view_name": "StyleView",
            "_model_name": "DescriptionStyleModel",
            "description_width": "",
            "_view_module": "@jupyter-widgets/base",
            "_model_module_version": "1.5.0",
            "_view_count": null,
            "_view_module_version": "1.2.0",
            "_model_module": "@jupyter-widgets/controls"
          }
        },
        "7ae0879d5afc479782ea18da465bfecd": {
          "model_module": "@jupyter-widgets/base",
          "model_name": "LayoutModel",
          "state": {
            "_view_name": "LayoutView",
            "grid_template_rows": null,
            "right": null,
            "justify_content": null,
            "_view_module": "@jupyter-widgets/base",
            "overflow": null,
            "_model_module_version": "1.2.0",
            "_view_count": null,
            "flex_flow": null,
            "width": null,
            "min_width": null,
            "border": null,
            "align_items": null,
            "bottom": null,
            "_model_module": "@jupyter-widgets/base",
            "top": null,
            "grid_column": null,
            "overflow_y": null,
            "overflow_x": null,
            "grid_auto_flow": null,
            "grid_area": null,
            "grid_template_columns": null,
            "flex": null,
            "_model_name": "LayoutModel",
            "justify_items": null,
            "grid_row": null,
            "max_height": null,
            "align_content": null,
            "visibility": null,
            "align_self": null,
            "height": null,
            "min_height": null,
            "padding": null,
            "grid_auto_rows": null,
            "grid_gap": null,
            "max_width": null,
            "order": null,
            "_view_module_version": "1.2.0",
            "grid_template_areas": null,
            "object_position": null,
            "object_fit": null,
            "grid_auto_columns": null,
            "margin": null,
            "display": null,
            "left": null
          }
        }
      }
    }
  },
  "cells": [
    {
      "cell_type": "markdown",
      "metadata": {
        "id": "53N4k0pj_9qL"
      },
      "source": [
        "# Preparation for Colab\n",
        "## Pytorch version\n",
        "Make sure you're running a GPU runtime; if not, select \"GPU\" as the hardware accelerator in Runtime > Change Runtime Type in the menu. The next cells will print the CUDA version of the runtime if it has a GPU, and install PyTorch 1.7.1."
      ]
    },
    {
      "cell_type": "code",
      "metadata": {
        "colab": {
          "base_uri": "https://localhost:8080/"
        },
        "id": "0BpdJkdBssk9",
        "outputId": "0b02e894-4b8e-47aa-ef83-9788a47452af"
      },
      "source": [
        "import subprocess\n",
        "\n",
        "CUDA_version = [s for s in subprocess.check_output([\"nvcc\", \"--version\"]).decode(\"UTF-8\").split(\", \") if s.startswith(\"release\")][0].split(\" \")[-1]\n",
        "print(\"CUDA version:\", CUDA_version)\n",
        "\n",
        "if CUDA_version == \"10.0\":\n",
        "    torch_version_suffix = \"+cu100\"\n",
        "elif CUDA_version == \"10.1\":\n",
        "    torch_version_suffix = \"+cu101\"\n",
        "elif CUDA_version == \"11.2\":\n",
        "    torch_version_suffix = \"+cu112\"\n",
        "elif CUDA_version == \"10.2\":\n",
        "    torch_version_suffix = \"\"\n",
        "else:\n",
        "    torch_version_suffix = \"+cu110\""
      ],
      "execution_count": null,
      "outputs": [
        {
          "output_type": "stream",
          "text": [
            "CUDA version: 11.0\n"
          ],
          "name": "stdout"
        }
      ]
    },
    {
      "cell_type": "code",
      "metadata": {
        "colab": {
          "base_uri": "https://localhost:8080/"
        },
        "id": "RBVr18E5tse8",
        "outputId": "befbe06a-9c1e-47d1-f447-f635a0f200d5"
      },
      "source": [
        "! pip install torch==1.7.1{torch_version_suffix} torchvision==0.8.2{torch_version_suffix} -f https://download.pytorch.org/whl/torch_stable.html ftfy regex"
      ],
      "execution_count": null,
      "outputs": [
        {
          "output_type": "stream",
          "text": [
            "Looking in links: https://download.pytorch.org/whl/torch_stable.html\n",
            "Collecting torch==1.7.1+cu110\n",
            "\u001b[?25l  Downloading https://download.pytorch.org/whl/cu110/torch-1.7.1%2Bcu110-cp37-cp37m-linux_x86_64.whl (1156.8MB)\n",
            "\u001b[K     |███████████████████████         | 834.1MB 1.3MB/s eta 0:04:02tcmalloc: large alloc 1147494400 bytes == 0x558b9ea66000 @  0x7f027b305615 0x558b6652b06c 0x558b6660aeba 0x558b6652de8d 0x558b6661f99d 0x558b665a1fe9 0x558b6659cb0e 0x558b6652f77a 0x558b665a1e50 0x558b6659cb0e 0x558b6652f77a 0x558b6659e86a 0x558b666207c6 0x558b6659dee2 0x558b666207c6 0x558b6659dee2 0x558b666207c6 0x558b6659dee2 0x558b666207c6 0x558b666a2431 0x558b66603049 0x558b6656dc84 0x558b6652e8e9 0x558b665a2ade 0x558b6652f69a 0x558b6659da45 0x558b6659ce0d 0x558b6652f77a 0x558b6659da45 0x558b6652f69a 0x558b6659da45\n",
            "\u001b[K     |█████████████████████████████▏  | 1055.7MB 1.2MB/s eta 0:01:23tcmalloc: large alloc 1434370048 bytes == 0x558be30bc000 @  0x7f027b305615 0x558b6652b06c 0x558b6660aeba 0x558b6652de8d 0x558b6661f99d 0x558b665a1fe9 0x558b6659cb0e 0x558b6652f77a 0x558b665a1e50 0x558b6659cb0e 0x558b6652f77a 0x558b6659e86a 0x558b666207c6 0x558b6659dee2 0x558b666207c6 0x558b6659dee2 0x558b666207c6 0x558b6659dee2 0x558b666207c6 0x558b666a2431 0x558b66603049 0x558b6656dc84 0x558b6652e8e9 0x558b665a2ade 0x558b6652f69a 0x558b6659da45 0x558b6659ce0d 0x558b6652f77a 0x558b6659da45 0x558b6652f69a 0x558b6659da45\n",
            "\u001b[K     |████████████████████████████████| 1156.7MB 1.2MB/s eta 0:00:01tcmalloc: large alloc 1445945344 bytes == 0x558c388a8000 @  0x7f027b305615 0x558b6652b06c 0x558b6660aeba 0x558b6652de8d 0x558b6661f99d 0x558b665a1fe9 0x558b6659cb0e 0x558b6652f77a 0x558b6659dc9e 0x558b6659cb0e 0x558b6652f77a 0x558b6659dc9e 0x558b6659cb0e 0x558b6652f77a 0x558b6659dc9e 0x558b6659cb0e 0x558b6652f77a 0x558b6659dc9e 0x558b6659cb0e 0x558b6652f77a 0x558b6659dc9e 0x558b6652f69a 0x558b6659dc9e 0x558b6659cb0e 0x558b6652f77a 0x558b6659e86a 0x558b6659cb0e 0x558b6652f77a 0x558b6659e86a 0x558b6659cb0e 0x558b6652fe11\n",
            "\u001b[K     |████████████████████████████████| 1156.8MB 14kB/s \n",
            "\u001b[33mWARNING: Retrying (Retry(total=4, connect=None, read=None, redirect=None, status=None)) after connection broken by 'ProtocolError('Connection aborted.', ConnectionResetError(104, 'Connection reset by peer'))': /simple/torchvision/\u001b[0m\n",
            "\u001b[?25hCollecting torchvision==0.8.2+cu110\n",
            "\u001b[?25l  Downloading https://download.pytorch.org/whl/cu110/torchvision-0.8.2%2Bcu110-cp37-cp37m-linux_x86_64.whl (12.9MB)\n",
            "\u001b[K     |████████████████████████████████| 12.9MB 47.7MB/s \n",
            "\u001b[?25hCollecting ftfy\n",
            "\u001b[?25l  Downloading https://files.pythonhosted.org/packages/ce/b5/5da463f9c7823e0e575e9908d004e2af4b36efa8d02d3d6dad57094fcb11/ftfy-6.0.1.tar.gz (63kB)\n",
            "\u001b[K     |████████████████████████████████| 71kB 4.7MB/s \n",
            "\u001b[?25hRequirement already satisfied: regex in /usr/local/lib/python3.7/dist-packages (2019.12.20)\n",
            "Requirement already satisfied: numpy in /usr/local/lib/python3.7/dist-packages (from torch==1.7.1+cu110) (1.19.5)\n",
            "Requirement already satisfied: typing-extensions in /usr/local/lib/python3.7/dist-packages (from torch==1.7.1+cu110) (3.7.4.3)\n",
            "Requirement already satisfied: pillow>=4.1.1 in /usr/local/lib/python3.7/dist-packages (from torchvision==0.8.2+cu110) (7.1.2)\n",
            "Requirement already satisfied: wcwidth in /usr/local/lib/python3.7/dist-packages (from ftfy) (0.2.5)\n",
            "Building wheels for collected packages: ftfy\n",
            "  Building wheel for ftfy (setup.py) ... \u001b[?25l\u001b[?25hdone\n",
            "  Created wheel for ftfy: filename=ftfy-6.0.1-cp37-none-any.whl size=41573 sha256=3ce153f3305ea05bba0e9704e7082c518b4433f1afc0954604ebf7bfe67f47db\n",
            "  Stored in directory: /root/.cache/pip/wheels/ae/73/c7/9056e14b04919e5c262fe80b54133b1a88d73683d05d7ac65c\n",
            "Successfully built ftfy\n",
            "\u001b[31mERROR: torchtext 0.9.1 has requirement torch==1.8.1, but you'll have torch 1.7.1+cu110 which is incompatible.\u001b[0m\n",
            "Installing collected packages: torch, torchvision, ftfy\n",
            "  Found existing installation: torch 1.8.1+cu101\n",
            "    Uninstalling torch-1.8.1+cu101:\n",
            "      Successfully uninstalled torch-1.8.1+cu101\n",
            "  Found existing installation: torchvision 0.9.1+cu101\n",
            "    Uninstalling torchvision-0.9.1+cu101:\n",
            "      Successfully uninstalled torchvision-0.9.1+cu101\n",
            "Successfully installed ftfy-6.0.1 torch-1.7.1+cu110 torchvision-0.8.2+cu110\n"
          ],
          "name": "stdout"
        }
      ]
    },
    {
      "cell_type": "code",
      "metadata": {
        "id": "C1hkDT38hSaP",
        "colab": {
          "base_uri": "https://localhost:8080/"
        },
        "outputId": "26b9baf0-878c-45cf-eae5-6915da88e0da"
      },
      "source": [
        "import numpy as np\n",
        "import torch\n",
        "import torch.nn as nn\n",
        "import math\n",
        "import copy\n",
        "import torch.nn.functional as F\n",
        "from torch.nn.utils.rnn import pack_padded_sequence, pad_packed_sequence\n",
        "print(\"Torch version:\", torch.__version__)"
      ],
      "execution_count": null,
      "outputs": [
        {
          "output_type": "stream",
          "text": [
            "Torch version: 1.7.1+cu110\n"
          ],
          "name": "stdout"
        }
      ]
    },
    {
      "cell_type": "markdown",
      "metadata": {
        "id": "d8aEvrl7ZOlO"
      },
      "source": [
        "# Neural Machine Translation"
      ]
    },
    {
      "cell_type": "markdown",
      "metadata": {
        "id": "PV9NICgZZOld"
      },
      "source": [
        "<sup> with inputs from https://pytorch.org/tutorials/intermediate/seq2seq_translation_tutorial.html </sup>\n",
        "\n",
        "General Reference: https://github.com/nyu-dl/NLP_DL_Lecture_Note/blob/master/lecture_note.pdf"
      ]
    },
    {
      "cell_type": "markdown",
      "metadata": {
        "id": "4TUegCvrZOlh"
      },
      "source": [
        "### Install Google Translate API for Comparision"
      ]
    },
    {
      "cell_type": "markdown",
      "metadata": {
        "id": "koM5Z-SoZOli"
      },
      "source": [
        "https://github.com/ssut/py-googletrans"
      ]
    },
    {
      "cell_type": "code",
      "metadata": {
        "colab": {
          "base_uri": "https://localhost:8080/",
          "height": 504
        },
        "id": "cIrLkDlvlIsq",
        "outputId": "eaeb526d-7146-40d3-d1cc-52ca22b03a2a"
      },
      "source": [
        "! pip install googletrans==4.0.0-rc1"
      ],
      "execution_count": null,
      "outputs": [
        {
          "output_type": "stream",
          "text": [
            "Collecting googletrans==4.0.0-rc1\n",
            "  Downloading https://files.pythonhosted.org/packages/fa/0d/a5fe8fb53dbf401f8a34cef9439c4c5b8f5037e20123b3e731397808d839/googletrans-4.0.0rc1.tar.gz\n",
            "Requirement already satisfied: httpx==0.13.3 in /usr/local/lib/python3.7/dist-packages (from googletrans==4.0.0-rc1) (0.13.3)\n",
            "Requirement already satisfied: httpcore==0.9.* in /usr/local/lib/python3.7/dist-packages (from httpx==0.13.3->googletrans==4.0.0-rc1) (0.9.1)\n",
            "Requirement already satisfied: chardet==3.* in /usr/local/lib/python3.7/dist-packages (from httpx==0.13.3->googletrans==4.0.0-rc1) (3.0.4)\n",
            "Requirement already satisfied: hstspreload in /usr/local/lib/python3.7/dist-packages (from httpx==0.13.3->googletrans==4.0.0-rc1) (2020.12.22)\n",
            "Requirement already satisfied: idna==2.* in /usr/local/lib/python3.7/dist-packages (from httpx==0.13.3->googletrans==4.0.0-rc1) (2.10)\n",
            "Requirement already satisfied: sniffio in /usr/local/lib/python3.7/dist-packages (from httpx==0.13.3->googletrans==4.0.0-rc1) (1.2.0)\n",
            "Requirement already satisfied: certifi in /usr/local/lib/python3.7/dist-packages (from httpx==0.13.3->googletrans==4.0.0-rc1) (2020.12.5)\n",
            "Requirement already satisfied: rfc3986<2,>=1.3 in /usr/local/lib/python3.7/dist-packages (from httpx==0.13.3->googletrans==4.0.0-rc1) (1.4.0)\n",
            "Requirement already satisfied: h2==3.* in /usr/local/lib/python3.7/dist-packages (from httpcore==0.9.*->httpx==0.13.3->googletrans==4.0.0-rc1) (3.2.0)\n",
            "Requirement already satisfied: h11<0.10,>=0.8 in /usr/local/lib/python3.7/dist-packages (from httpcore==0.9.*->httpx==0.13.3->googletrans==4.0.0-rc1) (0.9.0)\n",
            "Requirement already satisfied: hpack<4,>=3.0 in /usr/local/lib/python3.7/dist-packages (from h2==3.*->httpcore==0.9.*->httpx==0.13.3->googletrans==4.0.0-rc1) (3.0.0)\n",
            "Requirement already satisfied: hyperframe<6,>=5.2.0 in /usr/local/lib/python3.7/dist-packages (from h2==3.*->httpcore==0.9.*->httpx==0.13.3->googletrans==4.0.0-rc1) (5.2.0)\n",
            "Building wheels for collected packages: googletrans\n",
            "  Building wheel for googletrans (setup.py) ... \u001b[?25l\u001b[?25hdone\n",
            "  Created wheel for googletrans: filename=googletrans-4.0.0rc1-cp37-none-any.whl size=17417 sha256=b440a9dbb29b781efb6995818edae97e568358f9f32d6934be3d4e4b75b5903c\n",
            "  Stored in directory: /root/.cache/pip/wheels/09/32/56/fd8940f1b3c1d77c9f91b55597c52a4d4833b000a980bb0740\n",
            "Successfully built googletrans\n",
            "Installing collected packages: googletrans\n",
            "  Found existing installation: googletrans 3.0.0\n",
            "    Can't uninstall 'googletrans'. No files were found to uninstall.\n",
            "Successfully installed googletrans-4.0.0rc1\n"
          ],
          "name": "stdout"
        },
        {
          "output_type": "display_data",
          "data": {
            "application/vnd.colab-display-data+json": {
              "pip_warning": {
                "packages": [
                  "googletrans"
                ]
              }
            }
          },
          "metadata": {
            "tags": []
          }
        }
      ]
    },
    {
      "cell_type": "code",
      "metadata": {
        "collapsed": true,
        "id": "Zm6xlzEgZOlo"
      },
      "source": [
        "from googletrans import Translator\n",
        "translator = Translator()"
      ],
      "execution_count": null,
      "outputs": []
    },
    {
      "cell_type": "code",
      "metadata": {
        "colab": {
          "base_uri": "https://localhost:8080/",
          "height": 37
        },
        "id": "uq_7Z1i_klj1",
        "outputId": "cebc5880-5e32-4f28-e92e-0ae7636da440"
      },
      "source": [
        "translator.translate(\"Bonjour, ceci est un petit test\").__dict__()[\"text\"]"
      ],
      "execution_count": null,
      "outputs": [
        {
          "output_type": "execute_result",
          "data": {
            "application/vnd.google.colaboratory.intrinsic+json": {
              "type": "string"
            },
            "text/plain": [
              "'Hello, this is a small test'"
            ]
          },
          "metadata": {
            "tags": []
          },
          "execution_count": 6
        }
      ]
    },
    {
      "cell_type": "code",
      "metadata": {
        "colab": {
          "base_uri": "https://localhost:8080/"
        },
        "id": "nZ3mdy6ZcScf",
        "outputId": "71280f31-c552-48be-b7ca-8fef4175fd07"
      },
      "source": [
        "! wget https://nyu.box.com/shared/static/jgbcjgbhgfwmpk2y2785fzsg5vlh91iu.gz"
      ],
      "execution_count": null,
      "outputs": [
        {
          "output_type": "stream",
          "text": [
            "--2021-05-02 23:35:35--  https://nyu.box.com/shared/static/jgbcjgbhgfwmpk2y2785fzsg5vlh91iu.gz\n",
            "Resolving nyu.box.com (nyu.box.com)... 107.152.25.197\n",
            "Connecting to nyu.box.com (nyu.box.com)|107.152.25.197|:443... connected.\n",
            "HTTP request sent, awaiting response... 301 Moved Permanently\n",
            "Location: /public/static/jgbcjgbhgfwmpk2y2785fzsg5vlh91iu.gz [following]\n",
            "--2021-05-02 23:35:35--  https://nyu.box.com/public/static/jgbcjgbhgfwmpk2y2785fzsg5vlh91iu.gz\n",
            "Reusing existing connection to nyu.box.com:443.\n",
            "HTTP request sent, awaiting response... 301 Moved Permanently\n",
            "Location: https://nyu.app.box.com/public/static/jgbcjgbhgfwmpk2y2785fzsg5vlh91iu.gz [following]\n",
            "--2021-05-02 23:35:35--  https://nyu.app.box.com/public/static/jgbcjgbhgfwmpk2y2785fzsg5vlh91iu.gz\n",
            "Resolving nyu.app.box.com (nyu.app.box.com)... 107.152.25.201\n",
            "Connecting to nyu.app.box.com (nyu.app.box.com)|107.152.25.201|:443... connected.\n",
            "HTTP request sent, awaiting response... 302 Found\n",
            "Location: https://public.boxcloud.com/d/1/b1!q4CXD2osh6sUgBPh0ciiXo0ZKnGtR9_YDiMHhnwv7ws1r7idzQbG_xB2pcKitsApVdw70f_ruk0N-o8iI5D0R9KhZVIizUYVA-Q53yc_RO_M_De359_mxD5CgkyLIMZUyjPksBN4IZufzP-nejcCmHvjGiH5gXmEvUYGMCaBT6QBD7zH05RGyHCp1JvvKQoJk_lWTtl9wSvEN5ghbfx_FNvvBpnURLKqkuLojoPjGrkaQZP8u89-HLtPVuRs3r76TWd4ZGsV4DlYNBkv8ATzW_ocd-c9-lwNMi4XW6X30Om8zCI5eMUq_w8d6XnnYnrxBsFY7OuFOOvqJAt6rXs2wq2WSo16ZQ7SYkFWkdGlhW4CxHok_5OXVv5YtjMo0Srwl2QSpttLPghaCE3X6OjV83649jKYz9wt8-HfuYNuwT6nZwcWUpdEv2kRJtTaXc_5oQy9SL_Z3Bru5jOwqGfkeQv0lOyP1NIBgOK2EdqOlRfa5yxvZXoyQan04M1Xc4omUJ3wXQBqkGr0YGDSTTzOh7YhMSoCT_JVQMcfs42tMMKQH5qBlsx0EXI-4dflvHU6iakh7_CI6fDEKvbRLeSgQO2XTIr9iUMyNKUVCWNzX7mlhuMmYRN2xmRXC9wYJlaIIAXTp5zsc35prYNF0YYvXo3A4vOyIv1gVAFp2XIHCpxLxYhkC4JiuUx4zJRd5BrEbK6YflfurtUDHE2xZm5f8uAOvS2tQVOcpVceIC6d6BXL6ekwTvI6yuwbPfVVzKnucQ6fs_b-uPWcfwN2VQhkx7h5EDKFdVz31tMitjSMmBDqO-DvwtWKeQcyPgWYFsMVdGkLaWSNeTPjk6BTAg0S3b5QgV59_le3K5idDZn5AODw1Qo_6-VONnxBsBUncfLKm_6z2mLLwR9x5RalITTv3TX9gRxDimB5ud64MY9eFYsX2lnGxsJJED1WKyNrKUgKKdj0FlMm45-RNeQrI2qZ2Z8gRy7n63WOQ1Tdq8_T0eIhWFnn6Wh-U5VyBmcJ7RXFmBAviiGnGHFQ9CyOdPWfIvdsgynmTlsw2d-HL2nq5ezmDl7fMZnsgKL8b1_4yaO1dbz6EEmllG07FOkOGZ1HU0VtXQYBSmxjLQM2gwjArLVAMIwQn6Uhkk5fkFg6V83SdyHpFYnXEfM3rc1maz96UfsHzCsLHVqQjjHRXZmAgVeT-cIxe_ubHG7B3cYg6EI8Mh-HRNGeycjoLrBCrxcUfYJTxw0uBNBuSDubSzeW4h-0pfPbElw3pR0-PMBcqEChi1AWD_ANjHYWakwCB7BfmvqBAwkkjCaAcFAVpGind3c49cWeOzIO6Lt70H_Hab3ZLJV3SI83zMSncXhBnbH237elyE9Qbl7abfoSOXT-5mJpqUsEwGDgTzXMYfmUh-ONAKwg5iCfPKk0sw../download [following]\n",
            "--2021-05-02 23:35:36--  https://public.boxcloud.com/d/1/b1!q4CXD2osh6sUgBPh0ciiXo0ZKnGtR9_YDiMHhnwv7ws1r7idzQbG_xB2pcKitsApVdw70f_ruk0N-o8iI5D0R9KhZVIizUYVA-Q53yc_RO_M_De359_mxD5CgkyLIMZUyjPksBN4IZufzP-nejcCmHvjGiH5gXmEvUYGMCaBT6QBD7zH05RGyHCp1JvvKQoJk_lWTtl9wSvEN5ghbfx_FNvvBpnURLKqkuLojoPjGrkaQZP8u89-HLtPVuRs3r76TWd4ZGsV4DlYNBkv8ATzW_ocd-c9-lwNMi4XW6X30Om8zCI5eMUq_w8d6XnnYnrxBsFY7OuFOOvqJAt6rXs2wq2WSo16ZQ7SYkFWkdGlhW4CxHok_5OXVv5YtjMo0Srwl2QSpttLPghaCE3X6OjV83649jKYz9wt8-HfuYNuwT6nZwcWUpdEv2kRJtTaXc_5oQy9SL_Z3Bru5jOwqGfkeQv0lOyP1NIBgOK2EdqOlRfa5yxvZXoyQan04M1Xc4omUJ3wXQBqkGr0YGDSTTzOh7YhMSoCT_JVQMcfs42tMMKQH5qBlsx0EXI-4dflvHU6iakh7_CI6fDEKvbRLeSgQO2XTIr9iUMyNKUVCWNzX7mlhuMmYRN2xmRXC9wYJlaIIAXTp5zsc35prYNF0YYvXo3A4vOyIv1gVAFp2XIHCpxLxYhkC4JiuUx4zJRd5BrEbK6YflfurtUDHE2xZm5f8uAOvS2tQVOcpVceIC6d6BXL6ekwTvI6yuwbPfVVzKnucQ6fs_b-uPWcfwN2VQhkx7h5EDKFdVz31tMitjSMmBDqO-DvwtWKeQcyPgWYFsMVdGkLaWSNeTPjk6BTAg0S3b5QgV59_le3K5idDZn5AODw1Qo_6-VONnxBsBUncfLKm_6z2mLLwR9x5RalITTv3TX9gRxDimB5ud64MY9eFYsX2lnGxsJJED1WKyNrKUgKKdj0FlMm45-RNeQrI2qZ2Z8gRy7n63WOQ1Tdq8_T0eIhWFnn6Wh-U5VyBmcJ7RXFmBAviiGnGHFQ9CyOdPWfIvdsgynmTlsw2d-HL2nq5ezmDl7fMZnsgKL8b1_4yaO1dbz6EEmllG07FOkOGZ1HU0VtXQYBSmxjLQM2gwjArLVAMIwQn6Uhkk5fkFg6V83SdyHpFYnXEfM3rc1maz96UfsHzCsLHVqQjjHRXZmAgVeT-cIxe_ubHG7B3cYg6EI8Mh-HRNGeycjoLrBCrxcUfYJTxw0uBNBuSDubSzeW4h-0pfPbElw3pR0-PMBcqEChi1AWD_ANjHYWakwCB7BfmvqBAwkkjCaAcFAVpGind3c49cWeOzIO6Lt70H_Hab3ZLJV3SI83zMSncXhBnbH237elyE9Qbl7abfoSOXT-5mJpqUsEwGDgTzXMYfmUh-ONAKwg5iCfPKk0sw../download\n",
            "Resolving public.boxcloud.com (public.boxcloud.com)... 107.152.25.200\n",
            "Connecting to public.boxcloud.com (public.boxcloud.com)|107.152.25.200|:443... connected.\n",
            "HTTP request sent, awaiting response... 200 OK\n",
            "Length: 343509032 (328M) [application/octet-stream]\n",
            "Saving to: ‘jgbcjgbhgfwmpk2y2785fzsg5vlh91iu.gz’\n",
            "\n",
            "jgbcjgbhgfwmpk2y278 100%[===================>] 327.60M  19.8MB/s    in 15s     \n",
            "\n",
            "2021-05-02 23:35:51 (22.1 MB/s) - ‘jgbcjgbhgfwmpk2y2785fzsg5vlh91iu.gz’ saved [343509032/343509032]\n",
            "\n"
          ],
          "name": "stdout"
        }
      ]
    },
    {
      "cell_type": "code",
      "metadata": {
        "colab": {
          "base_uri": "https://localhost:8080/"
        },
        "id": "RgkqlzwTcevc",
        "outputId": "99771955-c7bd-47ea-efe1-f7b67e9fabc3"
      },
      "source": [
        "! tar xvzf jgbcjgbhgfwmpk2y2785fzsg5vlh91iu.gz"
      ],
      "execution_count": null,
      "outputs": [
        {
          "output_type": "stream",
          "text": [
            "a.seq_to_seq/\n",
            "a.seq_to_seq/en2fr/\n",
            "a.seq_to_seq/en2fr/lang_obj/\n",
            "a.seq_to_seq/en2fr/lang_obj/en_lang_obj_min_count_1.p\n",
            "a.seq_to_seq/en2fr/lang_obj/fr_lang_obj_min_count_1.p\n",
            "a.seq_to_seq/en2fr/nmt_enc_bow_model_dec_rnn.pth\n",
            "a.seq_to_seq/en2fr/nmt_enc_rnn_model_dec_rnn.pth\n",
            "a.seq_to_seq/en2fr/nmt_enc_encoderattn_model_dec_rnn.pth\n",
            "a.seq_to_seq/en2fr/.ipynb_checkpoints/\n",
            "a.seq_to_seq/.ipynb_checkpoints/\n",
            "a.seq_to_seq/.ipynb_checkpoints/NMT-checkpoint.ipynb\n",
            "a.seq_to_seq/data/\n",
            "a.seq_to_seq/data/valid.fr\n",
            "a.seq_to_seq/data/valid.en\n",
            "a.seq_to_seq/data/train.fr\n",
            "a.seq_to_seq/data/train.en\n",
            "a.seq_to_seq/pyfiles/\n",
            "a.seq_to_seq/pyfiles/nnet_models_new.py\n",
            "a.seq_to_seq/pyfiles/.ipynb_checkpoints/\n",
            "a.seq_to_seq/pyfiles/.ipynb_checkpoints/nnet_models_new-checkpoint.py\n",
            "a.seq_to_seq/pyfiles/.ipynb_checkpoints/download_reqs-checkpoint.sh\n",
            "a.seq_to_seq/pyfiles/__pycache__/\n",
            "a.seq_to_seq/pyfiles/__pycache__/nmt_dataset.cpython-37.pyc\n",
            "a.seq_to_seq/pyfiles/__pycache__/global_variables.cpython-37.pyc\n",
            "a.seq_to_seq/pyfiles/__pycache__/nnet_models_new.cpython-37.pyc\n",
            "a.seq_to_seq/pyfiles/__pycache__/bleu_score.cpython-37.pyc\n",
            "a.seq_to_seq/pyfiles/__pycache__/global_variables.cpython-36.pyc\n",
            "a.seq_to_seq/pyfiles/__pycache__/nmt_dataset.cpython-36.pyc\n",
            "a.seq_to_seq/pyfiles/__pycache__/nnet_models_new.cpython-36.pyc\n",
            "a.seq_to_seq/pyfiles/__pycache__/bleu_score.cpython-36.pyc\n",
            "a.seq_to_seq/pyfiles/bleu_score.py\n",
            "a.seq_to_seq/pyfiles/nmt_dataset.py\n",
            "a.seq_to_seq/pyfiles/download_reqs.sh\n",
            "a.seq_to_seq/pyfiles/global_variables.py\n",
            "a.seq_to_seq/NMT.ipynb\n"
          ],
          "name": "stdout"
        }
      ]
    },
    {
      "cell_type": "code",
      "metadata": {
        "colab": {
          "base_uri": "https://localhost:8080/"
        },
        "id": "yWZVnxt3cyUv",
        "outputId": "eb3dab98-d9d6-4511-98fe-399d2522c900"
      },
      "source": [
        "cd a.seq_to_seq"
      ],
      "execution_count": null,
      "outputs": [
        {
          "output_type": "stream",
          "text": [
            "/content/a.seq_to_seq\n"
          ],
          "name": "stdout"
        }
      ]
    },
    {
      "cell_type": "code",
      "metadata": {
        "colab": {
          "base_uri": "https://localhost:8080/"
        },
        "id": "HOtWvwLDflEL",
        "outputId": "390ff1d6-1879-4259-e7cb-ce1e42db0e61"
      },
      "source": [
        "! ls"
      ],
      "execution_count": null,
      "outputs": [
        {
          "output_type": "stream",
          "text": [
            "data  en2fr  NMT.ipynb\tpyfiles\n"
          ],
          "name": "stdout"
        }
      ]
    },
    {
      "cell_type": "code",
      "metadata": {
        "collapsed": true,
        "id": "cyNtMV6DZOlp"
      },
      "source": [
        "path_to_utils = 'pyfiles'"
      ],
      "execution_count": null,
      "outputs": []
    },
    {
      "cell_type": "code",
      "metadata": {
        "collapsed": true,
        "id": "F2fPljG8ZOlq"
      },
      "source": [
        "import os\n",
        "import sys\n",
        "sys.path.append(path_to_utils)"
      ],
      "execution_count": null,
      "outputs": []
    },
    {
      "cell_type": "code",
      "metadata": {
        "collapsed": true,
        "id": "rAhZtRSNZOlr"
      },
      "source": [
        "import global_variables\n",
        "import nmt_dataset\n",
        "import nnet_models_new"
      ],
      "execution_count": null,
      "outputs": []
    },
    {
      "cell_type": "code",
      "metadata": {
        "collapsed": true,
        "id": "G4Q6_0ZbZOlt"
      },
      "source": [
        "import torch\n",
        "import torch.nn as nn\n",
        "from torch import optim\n",
        "import torch.nn.functional as F\n",
        "from torch.utils.data import DataLoader\n",
        "from torch.optim.lr_scheduler import ReduceLROnPlateau\n",
        "\n",
        "from functools import partial\n",
        "import time\n",
        "# from tqdm import tqdm_notebook as tqdm\n",
        "import tqdm"
      ],
      "execution_count": null,
      "outputs": []
    },
    {
      "cell_type": "code",
      "metadata": {
        "collapsed": true,
        "id": "XferfXsvZOlu"
      },
      "source": [
        "base_saved_models_dir = '.'"
      ],
      "execution_count": null,
      "outputs": []
    },
    {
      "cell_type": "markdown",
      "metadata": {
        "id": "G_BF54b3ZOlw"
      },
      "source": [
        "### The Dataset"
      ]
    },
    {
      "cell_type": "markdown",
      "metadata": {
        "id": "5bbzTNLcZOlx"
      },
      "source": [
        "We will work with a English to French Dataset from https://www.manythings.org/anki/"
      ]
    },
    {
      "cell_type": "code",
      "metadata": {
        "collapsed": true,
        "id": "jZ7bFPgsZOly"
      },
      "source": [
        "main_data_path = './data/'"
      ],
      "execution_count": null,
      "outputs": []
    },
    {
      "cell_type": "code",
      "metadata": {
        "collapsed": true,
        "id": "wKzoWvRcZOly"
      },
      "source": [
        "source_name = 'en'\n",
        "target_name = 'fr'\n",
        "\n",
        "path_to_train_data = {'source':main_data_path+'train.'+source_name, \n",
        "                      'target':main_data_path+'train.'+target_name}\n",
        "path_to_val_data = {'source': main_data_path+'valid.'+source_name, \n",
        "                      'target':main_data_path+'valid.'+target_name}"
      ],
      "execution_count": null,
      "outputs": []
    },
    {
      "cell_type": "code",
      "metadata": {
        "collapsed": true,
        "id": "FbC_-Ol7ZOly"
      },
      "source": [
        "saved_models_dir = os.path.join(base_saved_models_dir, source_name+'2'+target_name)"
      ],
      "execution_count": null,
      "outputs": []
    },
    {
      "cell_type": "code",
      "metadata": {
        "colab": {
          "base_uri": "https://localhost:8080/"
        },
        "id": "XKVQ9gmwZOlz",
        "outputId": "1147e4db-ef3c-47a9-9216-b78d349c2b06"
      },
      "source": [
        "## See first 5 records\n",
        "! head -5 'data/train.en'"
      ],
      "execution_count": null,
      "outputs": [
        {
          "output_type": "stream",
          "text": [
            "i think we may have something that you d be interested in buying .\n",
            "they got it .\n",
            "i m glad to see you .\n",
            "he got into his car in a hurry .\n",
            "do you like mozart s music ?\n"
          ],
          "name": "stdout"
        }
      ]
    },
    {
      "cell_type": "code",
      "metadata": {
        "colab": {
          "base_uri": "https://localhost:8080/"
        },
        "id": "B-QSvqQuZOlz",
        "outputId": "12778b72-0c6f-491a-ec74-4806ba9b363e"
      },
      "source": [
        "! head -5 'data/train.fr'"
      ],
      "execution_count": null,
      "outputs": [
        {
          "output_type": "stream",
          "text": [
            "je pense que nous avons peut etre quelque chose dont vous seriez interesses de faire l acquisition .\n",
            "ils l ont eue .\n",
            "je suis enchante de vous rencontrer .\n",
            "il monta en vitesse dans sa voiture .\n",
            "aimez vous la musique de mozart ?\n"
          ],
          "name": "stdout"
        }
      ]
    },
    {
      "cell_type": "markdown",
      "metadata": {
        "id": "kik7gPdLZOl0"
      },
      "source": [
        "### Processing and making PyTorch Dataset"
      ]
    },
    {
      "cell_type": "markdown",
      "metadata": {
        "id": "Gu26GbRbZOl0"
      },
      "source": [
        "We have to make it a pair - (source, target) sentence pair. For this, we have to read the file and parse it accordingly. We might have to take care of some details there, like making sure that we strip off any non-required special characters or extra space. All those boring details aside (which you can see in dataset_helper.py) what are the other things we have to do?\n",
        "\n",
        "We have to make a vocabulary and tokenize like we have been doing. Here, we are writing a Language Class, to take care of this for you. Once we have done all this and tokenized, we write a pytorch dataset object to help as handle this efficiently during training"
      ]
    },
    {
      "cell_type": "code",
      "metadata": {
        "collapsed": true,
        "id": "cbpGN9GKZOl1"
      },
      "source": [
        "saved_language_model_dir = os.path.join(saved_models_dir, 'lang_obj')"
      ],
      "execution_count": null,
      "outputs": []
    },
    {
      "cell_type": "code",
      "metadata": {
        "collapsed": true,
        "id": "3LkwYaFNZOl1"
      },
      "source": [
        "dataset_dict = {'train': nmt_dataset.LanguagePair(source_name = source_name, target_name=target_name, \n",
        "                    filepath = path_to_train_data, \n",
        "                    lang_obj_path = saved_language_model_dir,\n",
        "                     minimum_count = 1), \n",
        "\n",
        "                'val': nmt_dataset.LanguagePair(source_name = source_name, target_name=target_name, \n",
        "                    filepath = path_to_val_data, \n",
        "                    lang_obj_path = saved_language_model_dir,\n",
        "                    minimum_count = 1)}"
      ],
      "execution_count": null,
      "outputs": []
    },
    {
      "cell_type": "markdown",
      "metadata": {
        "id": "kFsR8huQZOl1"
      },
      "source": [
        "The LanguagePair object we built has a DataFrame underneath. We see the first 5 rows of the dataframe below:"
      ]
    },
    {
      "cell_type": "code",
      "metadata": {
        "colab": {
          "base_uri": "https://localhost:8080/"
        },
        "id": "R6EHjN9zZOl2",
        "outputId": "3ac771e7-544b-4f90-e0d2-0fc2aeec4510"
      },
      "source": [
        "dataset_dict['train'].main_df.iloc[:5]"
      ],
      "execution_count": null,
      "outputs": [
        {
          "output_type": "execute_result",
          "data": {
            "text/html": [
              "<div>\n",
              "<style scoped>\n",
              "    .dataframe tbody tr th:only-of-type {\n",
              "        vertical-align: middle;\n",
              "    }\n",
              "\n",
              "    .dataframe tbody tr th {\n",
              "        vertical-align: top;\n",
              "    }\n",
              "\n",
              "    .dataframe thead th {\n",
              "        text-align: right;\n",
              "    }\n",
              "</style>\n",
              "<table border=\"1\" class=\"dataframe\">\n",
              "  <thead>\n",
              "    <tr style=\"text-align: right;\">\n",
              "      <th></th>\n",
              "      <th>source_data</th>\n",
              "      <th>target_data</th>\n",
              "      <th>source_tokenized</th>\n",
              "      <th>source_len</th>\n",
              "      <th>target_tokenized</th>\n",
              "      <th>target_len</th>\n",
              "      <th>source_indized</th>\n",
              "      <th>target_indized</th>\n",
              "    </tr>\n",
              "  </thead>\n",
              "  <tbody>\n",
              "    <tr>\n",
              "      <th>0</th>\n",
              "      <td>i think we may have something that you d be in...</td>\n",
              "      <td>je pense que nous avons peut etre quelque chos...</td>\n",
              "      <td>[i, think, we, may, have, something, that, you...</td>\n",
              "      <td>15</td>\n",
              "      <td>[je, pense, que, nous, avons, peut, etre, quel...</td>\n",
              "      <td>19</td>\n",
              "      <td>[4, 5, 6, 7, 8, 9, 10, 11, 12, 13, 14, 15, 16,...</td>\n",
              "      <td>[4, 5, 6, 7, 8, 9, 10, 11, 12, 13, 14, 15, 16,...</td>\n",
              "    </tr>\n",
              "    <tr>\n",
              "      <th>1</th>\n",
              "      <td>they got it .</td>\n",
              "      <td>ils l ont eue .</td>\n",
              "      <td>[they, got, it, .]</td>\n",
              "      <td>5</td>\n",
              "      <td>[ils, l, ont, eue, .]</td>\n",
              "      <td>6</td>\n",
              "      <td>[18, 19, 20, 17, 3]</td>\n",
              "      <td>[22, 19, 23, 24, 21, 3]</td>\n",
              "    </tr>\n",
              "    <tr>\n",
              "      <th>2</th>\n",
              "      <td>i m glad to see you .</td>\n",
              "      <td>je suis enchante de vous rencontrer .</td>\n",
              "      <td>[i, m, glad, to, see, you, .]</td>\n",
              "      <td>8</td>\n",
              "      <td>[je, suis, enchante, de, vous, rencontrer, .]</td>\n",
              "      <td>8</td>\n",
              "      <td>[4, 21, 22, 23, 24, 11, 17, 3]</td>\n",
              "      <td>[4, 25, 26, 17, 14, 27, 21, 3]</td>\n",
              "    </tr>\n",
              "    <tr>\n",
              "      <th>3</th>\n",
              "      <td>he got into his car in a hurry .</td>\n",
              "      <td>il monta en vitesse dans sa voiture .</td>\n",
              "      <td>[he, got, into, his, car, in, a, hurry, .]</td>\n",
              "      <td>10</td>\n",
              "      <td>[il, monta, en, vitesse, dans, sa, voiture, .]</td>\n",
              "      <td>9</td>\n",
              "      <td>[25, 19, 26, 27, 28, 15, 29, 30, 17, 3]</td>\n",
              "      <td>[28, 29, 30, 31, 32, 33, 34, 21, 3]</td>\n",
              "    </tr>\n",
              "    <tr>\n",
              "      <th>4</th>\n",
              "      <td>do you like mozart s music ?</td>\n",
              "      <td>aimez vous la musique de mozart ?</td>\n",
              "      <td>[do, you, like, mozart, s, music, ?]</td>\n",
              "      <td>8</td>\n",
              "      <td>[aimez, vous, la, musique, de, mozart, ?]</td>\n",
              "      <td>8</td>\n",
              "      <td>[31, 11, 32, 33, 34, 35, 36, 3]</td>\n",
              "      <td>[35, 14, 36, 37, 17, 38, 39, 3]</td>\n",
              "    </tr>\n",
              "  </tbody>\n",
              "</table>\n",
              "</div>"
            ],
            "text/plain": [
              "                                         source_data  ...                                     target_indized\n",
              "0  i think we may have something that you d be in...  ...  [4, 5, 6, 7, 8, 9, 10, 11, 12, 13, 14, 15, 16,...\n",
              "1                                      they got it .  ...                            [22, 19, 23, 24, 21, 3]\n",
              "2                              i m glad to see you .  ...                     [4, 25, 26, 17, 14, 27, 21, 3]\n",
              "3                   he got into his car in a hurry .  ...                [28, 29, 30, 31, 32, 33, 34, 21, 3]\n",
              "4                       do you like mozart s music ?  ...                    [35, 14, 36, 37, 17, 38, 39, 3]\n",
              "\n",
              "[5 rows x 8 columns]"
            ]
          },
          "metadata": {
            "tags": []
          },
          "execution_count": 20
        }
      ]
    },
    {
      "cell_type": "markdown",
      "metadata": {
        "id": "ng9xS1ETZOl2"
      },
      "source": [
        "### vocabulary sizes and sentence lengths"
      ]
    },
    {
      "cell_type": "code",
      "metadata": {
        "colab": {
          "base_uri": "https://localhost:8080/"
        },
        "id": "It2GoQQHZOl3",
        "outputId": "34be6aeb-9143-45f0-db3f-3f57002607cf"
      },
      "source": [
        "### vocabulary sizes\n",
        "print('source vocab: ', dataset_dict['train'].source_lang_obj.n_words , \n",
        "      'target vocab: ', dataset_dict['train'].target_lang_obj.n_words)"
      ],
      "execution_count": null,
      "outputs": [
        {
          "output_type": "stream",
          "text": [
            "source vocab:  12392 target vocab:  20111\n"
          ],
          "name": "stdout"
        }
      ]
    },
    {
      "cell_type": "code",
      "metadata": {
        "colab": {
          "base_uri": "https://localhost:8080/"
        },
        "id": "kJ2J7Sy6ZOl3",
        "outputId": "7161c5be-5a88-4ed7-8579-89f0dd128fd7"
      },
      "source": [
        "### sentence lengths\n",
        "print('max len: ', dataset_dict['train'].main_df['source_len'].max(), \n",
        "      'min len: ', dataset_dict['train'].main_df['source_len'].min() )"
      ],
      "execution_count": null,
      "outputs": [
        {
          "output_type": "stream",
          "text": [
            "max len:  51 min len:  3\n"
          ],
          "name": "stdout"
        }
      ]
    },
    {
      "cell_type": "code",
      "metadata": {
        "colab": {
          "base_uri": "https://localhost:8080/"
        },
        "id": "706YfSgpZOl3",
        "outputId": "55c053b3-b173-48d1-e4d7-f312a7f3afcc"
      },
      "source": [
        "dataset_dict['train'].main_df['source_len'].quantile([0.5, 0.75, 0.9, 0.95, 0.99, 0.999, 0.9999])"
      ],
      "execution_count": null,
      "outputs": [
        {
          "output_type": "execute_result",
          "data": {
            "text/plain": [
              "0.5000     8.0\n",
              "0.7500    10.0\n",
              "0.9000    12.0\n",
              "0.9500    13.0\n",
              "0.9900    17.0\n",
              "0.9990    22.0\n",
              "0.9999    32.0\n",
              "Name: source_len, dtype: float64"
            ]
          },
          "metadata": {
            "tags": []
          },
          "execution_count": 23
        }
      ]
    },
    {
      "cell_type": "markdown",
      "metadata": {
        "id": "e8FofUpjZOl4"
      },
      "source": [
        "51 looks like a very long sentence and at the $99.99$th percentile is 32. We probably don't want that much. How do we get rid of rest of the words or clip sentence at some MAX LEN? We can use the collate function of pytorch that we had seen earlier to do this. "
      ]
    },
    {
      "cell_type": "code",
      "metadata": {
        "collapsed": true,
        "id": "7vT-DfLlZOl4"
      },
      "source": [
        "MAX_LEN = int(dataset_dict['train'].main_df['source_len'].quantile(0.9999))\n",
        "batchSize = 64"
      ],
      "execution_count": null,
      "outputs": []
    },
    {
      "cell_type": "code",
      "metadata": {
        "collapsed": true,
        "id": "TmiP2_dGZOl4"
      },
      "source": [
        "dataloader_dict = {'train': DataLoader(dataset_dict['train'], batch_size = batchSize, \n",
        "                            collate_fn = partial(nmt_dataset.vocab_collate_func, MAX_LEN=MAX_LEN),\n",
        "                            shuffle = True, num_workers=0), \n",
        "                    'val': DataLoader(dataset_dict['val'], batch_size = batchSize, \n",
        "                            collate_fn = partial(nmt_dataset.vocab_collate_func, MAX_LEN=MAX_LEN),\n",
        "                            shuffle = True, num_workers=0) }"
      ],
      "execution_count": null,
      "outputs": []
    },
    {
      "cell_type": "markdown",
      "metadata": {
        "id": "EPo4ur8AZOl4"
      },
      "source": [
        "The Seq2Seq Model\n",
        "=================\n",
        "\n",
        "A Recurrent Neural Network, or RNN, is a network that operates on a\n",
        "sequence and uses its own output as input for subsequent steps.\n",
        "\n",
        "A `Sequence to Sequence network <http://arxiv.org/abs/1409.3215>`__, or\n",
        "seq2seq network, or `Encoder Decoder\n",
        "network <https://arxiv.org/pdf/1406.1078v3.pdf>`__, is a model\n",
        "consisting of usually of two RNNs called the encoder and decoder. The encoder reads\n",
        "an input sequence and outputs a single vector, and the decoder reads\n",
        "that vector to produce an output sequence. Essentially, all we need is some mechanism to read the source sentence and create an encoding and some mechanism to read the encoding and decode it to the target language. \n",
        "\n",
        "Unlike sequence prediction with a single RNN, where every input\n",
        "corresponds to an output, the seq2seq model frees us from sequence\n",
        "length and order, which makes it ideal for translation between two\n",
        "languages.\n",
        "\n",
        "Consider the sentence \"I am not the\n",
        "black cat\" → \"Je ne suis pas le chat noir\". Most of the words in the input sentence have a direct\n",
        "translation in the output sentence, but are in slightly different\n",
        "orders, e.g. \"chat noir\" and \"black cat\". Because of the \"ne/pas\"\n",
        "construction there is also one more word in the input sentence. It would\n",
        "be difficult to produce a correct translation directly from the sequence\n",
        "of input words.\n",
        "\n",
        "With a seq2seq model the encoder creates a single vector which, in the\n",
        "ideal case, encodes the \"meaning\" of the input sequence into a single\n",
        "vector — a single point in some N dimensional space of sentences.\n",
        "\n",
        "\n"
      ]
    },
    {
      "cell_type": "markdown",
      "metadata": {
        "id": "45jPygtEZOl5"
      },
      "source": [
        "### Concepts:\n",
        "1. NMT as a conditional language modelling\n",
        "2. Encoder\n",
        "3. Decoding during evaluation - step by step (see code)\n",
        "4. Teaching Forcing (see code) and train step\n",
        "5. How do we evaluate the quality of translation?"
      ]
    },
    {
      "cell_type": "markdown",
      "metadata": {
        "id": "83muae7KZOl5"
      },
      "source": [
        "The Encoder\n",
        "-----------\n",
        "\n",
        "The encoder is anything which takes in a sentence and gives us a representation for the sentence. \n",
        "\n",
        "Usually, the encoder of a seq2seq network is a RNN that outputs some value for\n",
        "every word from the input sentence. For every input word the encoder\n",
        "outputs a vector and a hidden state, and uses the hidden state for the\n",
        "next input word.\n",
        "\n",
        "However, we will first start with a BoW encoder and then move on to RNN based encoders"
      ]
    },
    {
      "cell_type": "code",
      "metadata": {
        "collapsed": true,
        "id": "uLCSo87ZZOl6"
      },
      "source": [
        "### configuration\n",
        "source_lang_obj = dataset_dict['train'].source_lang_obj\n",
        "target_lang_obj = dataset_dict['train'].target_lang_obj\n",
        "\n",
        "source_vocab = dataset_dict['train'].source_lang_obj.n_words;\n",
        "target_vocab = dataset_dict['train'].target_lang_obj.n_words;\n",
        "hidden_size = 512\n",
        "rnn_layers = 1\n",
        "lr = 0.25;\n",
        "longest_label = 32;\n",
        "gradient_clip = 0.3;\n",
        "use_cuda = True\n",
        "\n",
        "num_epochs = 10"
      ],
      "execution_count": null,
      "outputs": []
    },
    {
      "cell_type": "markdown",
      "metadata": {
        "id": "bno5QzJ3ZOl6"
      },
      "source": [
        "### BagOfWords Encoder"
      ]
    },
    {
      "cell_type": "code",
      "metadata": {
        "collapsed": true,
        "id": "x0PfwwVnZOl6"
      },
      "source": [
        "encoder_bow = nnet_models_new.BagOfWords(input_size = source_vocab,\n",
        "                                    hidden_size = hidden_size, \n",
        "                                    nlayers=4, \n",
        "                                    reduce = \"sum\")"
      ],
      "execution_count": null,
      "outputs": []
    },
    {
      "cell_type": "code",
      "metadata": {
        "id": "l0ugkB-SZOl6",
        "colab": {
          "base_uri": "https://localhost:8080/"
        },
        "outputId": "a0a2b4f2-f989-4ef5-ce41-6d8a493d44f0"
      },
      "source": [
        "print(encoder_bow)"
      ],
      "execution_count": null,
      "outputs": [
        {
          "output_type": "stream",
          "text": [
            "BagOfWords(\n",
            "  (embedding): Embedding(12392, 512, padding_idx=0)\n",
            "  (layers): ModuleList(\n",
            "    (0): Linear(in_features=512, out_features=512, bias=True)\n",
            "    (1): ReLU()\n",
            "    (2): Dropout(p=0.1, inplace=False)\n",
            "    (3): Linear(in_features=512, out_features=512, bias=True)\n",
            "    (4): ReLU()\n",
            "    (5): Dropout(p=0.1, inplace=False)\n",
            "    (6): Linear(in_features=512, out_features=512, bias=True)\n",
            "    (7): ReLU()\n",
            "    (8): Dropout(p=0.1, inplace=False)\n",
            "    (9): Linear(in_features=512, out_features=512, bias=True)\n",
            "  )\n",
            ")\n"
          ],
          "name": "stdout"
        }
      ]
    },
    {
      "cell_type": "markdown",
      "metadata": {
        "id": "5EOJART3ZOl7"
      },
      "source": [
        "The Decoder\n",
        "--------------------\n",
        "\n",
        "\n",
        "The decoder is another RNN that takes the encoder output vector(s) and outputs a sequence of words to create the translation.\n",
        "\n",
        "Decoder w/o Attention\n",
        "------------------------\n",
        "In the simplest seq2seq decoder we use only last output of the encoder. This last output is sometimes called the context vector as it encodes context from the entire sequence. This context vector is used as the initial hidden state of the decoder.\n",
        "\n",
        "At every step of decoding, the decoder is given an input token and hidden state. The initial input token is the start-of-string <SOS> token, and the first hidden state is the context vector (the encoder's last hidden state)."
      ]
    },
    {
      "cell_type": "code",
      "metadata": {
        "collapsed": true,
        "id": "pY97BDGwZOl7"
      },
      "source": [
        "decoder_bow = nnet_models_new.DecoderRNN(target_vocab, hidden_size, rnn_layers)"
      ],
      "execution_count": null,
      "outputs": []
    },
    {
      "cell_type": "code",
      "metadata": {
        "id": "BDYfyk10ZOl7",
        "colab": {
          "base_uri": "https://localhost:8080/"
        },
        "outputId": "02903f11-24f7-4dfd-fae2-d5b3d604cbcb"
      },
      "source": [
        "print(decoder_bow)"
      ],
      "execution_count": null,
      "outputs": [
        {
          "output_type": "stream",
          "text": [
            "DecoderRNN(\n",
            "  (embedding): Embedding(20111, 512)\n",
            "  (gru): GRU(512, 512, batch_first=True)\n",
            "  (out): Linear(in_features=512, out_features=20111, bias=True)\n",
            "  (softmax): LogSoftmax(dim=2)\n",
            ")\n"
          ],
          "name": "stdout"
        }
      ]
    },
    {
      "cell_type": "code",
      "metadata": {
        "collapsed": true,
        "id": "WhsLbf3XZOl7"
      },
      "source": [
        "nmt_bow = nnet_models_new.seq2seq(encoder_bow, decoder_bow,\n",
        "                              lr = 1e-2, \n",
        "                              use_cuda = use_cuda, \n",
        "                              hiddensize = hidden_size, \n",
        "                              numlayers = 4,\n",
        "                              target_lang=dataset_dict['train'].target_lang_obj,\n",
        "                              longest_label = longest_label,\n",
        "                              clip = gradient_clip)"
      ],
      "execution_count": null,
      "outputs": []
    },
    {
      "cell_type": "markdown",
      "metadata": {
        "id": "s-TlwLbVZOl8"
      },
      "source": [
        "### Training Loop"
      ]
    },
    {
      "cell_type": "code",
      "metadata": {
        "collapsed": true,
        "id": "f4bMt33jZOl8"
      },
      "source": [
        "def get_full_filepath(path, enc_type):\n",
        "    filename = 'nmt_enc_'+enc_type+'_dec_rnn.pth'\n",
        "    return os.path.join(path, filename)"
      ],
      "execution_count": null,
      "outputs": []
    },
    {
      "cell_type": "code",
      "metadata": {
        "collapsed": true,
        "id": "cdtDsOwHZOl8"
      },
      "source": [
        "def save_models(nmt_model, path, enc_type):\n",
        "    if not os.path.exists(path):\n",
        "            os.makedirs(path)\n",
        "    filename = 'nmt_enc_'+enc_type+'_dec_rnn.pth'\n",
        "    torch.save(nmt_model, os.path.join(path, filename))\n",
        "   "
      ],
      "execution_count": null,
      "outputs": []
    },
    {
      "cell_type": "code",
      "metadata": {
        "collapsed": true,
        "id": "AHUQHiXCZOl8"
      },
      "source": [
        "def train_model(dataloader, nmt, num_epochs=50, val_every=1, saved_model_path = '.', enc_type ='rnn'):\n",
        "\n",
        "    best_bleu = -1;\n",
        "    for epoch in range(num_epochs):\n",
        "\n",
        "        start = time.time()\n",
        "        running_loss = 0\n",
        "\n",
        "        print('Epoch: [{}/{}]'.format(epoch, num_epochs));\n",
        "        \n",
        "        for i, data in tqdm.tqdm_notebook(enumerate(dataloader['train']), total=len(dataloader['train'])):  \n",
        "            _, curr_loss = nmt.train_step(data);\n",
        "            running_loss += curr_loss\n",
        "\n",
        "        epoch_loss = running_loss / len(dataloader['train']) \n",
        "        \n",
        "        print(\"epoch {} loss = {}, time = {}\".format(epoch, epoch_loss,\n",
        "                                                        time.time() - start))\n",
        "        sys.stdout.flush()\n",
        "   \n",
        "        if epoch%val_every == 0:\n",
        "            val_bleu_score = nmt.get_bleu_score(dataloader['val']);\n",
        "            print('validation bleu: ', val_bleu_score)\n",
        "            sys.stdout.flush()\n",
        "            \n",
        "            nmt.scheduler_step(val_bleu_score);\n",
        "            \n",
        "            if val_bleu_score > best_bleu:\n",
        "                best_bleu = val_bleu_score\n",
        "                save_models(nmt, saved_model_path, enc_type);\n",
        "\n",
        "        print('='*50)\n",
        "\n",
        "    print(\"Training completed. Best BLEU is {}\".format(best_bleu))\n",
        "\n",
        "    "
      ],
      "execution_count": null,
      "outputs": []
    },
    {
      "cell_type": "markdown",
      "metadata": {
        "id": "9FWul49CZOl9"
      },
      "source": [
        "### Training Bow Encoder GRU Decoder Model"
      ]
    },
    {
      "cell_type": "code",
      "metadata": {
        "collapsed": true,
        "id": "C-WSgYMJZOl9",
        "colab": {
          "base_uri": "https://localhost:8080/"
        },
        "outputId": "50889918-d3b3-4830-e31a-a1f87ac40993"
      },
      "source": [
        "train_again = False\n",
        "modelname = 'bow_model'\n",
        "device = torch.device('cuda') if use_cuda and torch.cuda.is_available() else torch.device('cpu');\n",
        "if os.path.exists(get_full_filepath(saved_models_dir, modelname)) and (not train_again):\n",
        "    nmt_bow = torch.load(get_full_filepath(saved_models_dir, modelname))\n",
        "else:\n",
        "    train_model(dataloader_dict, nmt_bow, \n",
        "                          num_epochs = num_epochs, \n",
        "                          saved_model_path = saved_models_dir, \n",
        "                          enc_type = 'bow_test')"
      ],
      "execution_count": null,
      "outputs": [
        {
          "output_type": "stream",
          "text": [
            "/usr/local/lib/python3.7/dist-packages/torch/serialization.py:658: SourceChangeWarning: source code of class 'torch.nn.modules.sparse.Embedding' has changed. you can retrieve the original source code by accessing the object's source attribute or set `torch.nn.Module.dump_patches = True` and use the patch tool to revert the changes.\n",
            "  warnings.warn(msg, SourceChangeWarning)\n",
            "/usr/local/lib/python3.7/dist-packages/torch/serialization.py:658: SourceChangeWarning: source code of class 'torch.nn.modules.container.ModuleList' has changed. you can retrieve the original source code by accessing the object's source attribute or set `torch.nn.Module.dump_patches = True` and use the patch tool to revert the changes.\n",
            "  warnings.warn(msg, SourceChangeWarning)\n",
            "/usr/local/lib/python3.7/dist-packages/torch/serialization.py:658: SourceChangeWarning: source code of class 'torch.nn.modules.linear.Linear' has changed. you can retrieve the original source code by accessing the object's source attribute or set `torch.nn.Module.dump_patches = True` and use the patch tool to revert the changes.\n",
            "  warnings.warn(msg, SourceChangeWarning)\n",
            "/usr/local/lib/python3.7/dist-packages/torch/serialization.py:658: SourceChangeWarning: source code of class 'torch.nn.modules.activation.ReLU' has changed. you can retrieve the original source code by accessing the object's source attribute or set `torch.nn.Module.dump_patches = True` and use the patch tool to revert the changes.\n",
            "  warnings.warn(msg, SourceChangeWarning)\n",
            "/usr/local/lib/python3.7/dist-packages/torch/serialization.py:658: SourceChangeWarning: source code of class 'torch.nn.modules.dropout.Dropout' has changed. you can retrieve the original source code by accessing the object's source attribute or set `torch.nn.Module.dump_patches = True` and use the patch tool to revert the changes.\n",
            "  warnings.warn(msg, SourceChangeWarning)\n",
            "/usr/local/lib/python3.7/dist-packages/torch/serialization.py:658: SourceChangeWarning: source code of class 'torch.nn.modules.rnn.GRU' has changed. you can retrieve the original source code by accessing the object's source attribute or set `torch.nn.Module.dump_patches = True` and use the patch tool to revert the changes.\n",
            "  warnings.warn(msg, SourceChangeWarning)\n",
            "/usr/local/lib/python3.7/dist-packages/torch/serialization.py:658: SourceChangeWarning: source code of class 'torch.nn.modules.activation.LogSoftmax' has changed. you can retrieve the original source code by accessing the object's source attribute or set `torch.nn.Module.dump_patches = True` and use the patch tool to revert the changes.\n",
            "  warnings.warn(msg, SourceChangeWarning)\n",
            "/usr/local/lib/python3.7/dist-packages/torch/serialization.py:658: SourceChangeWarning: source code of class 'torch.nn.modules.loss.NLLLoss' has changed. you can retrieve the original source code by accessing the object's source attribute or set `torch.nn.Module.dump_patches = True` and use the patch tool to revert the changes.\n",
            "  warnings.warn(msg, SourceChangeWarning)\n"
          ],
          "name": "stderr"
        }
      ]
    },
    {
      "cell_type": "markdown",
      "metadata": {
        "id": "S81VuEKqZOl9"
      },
      "source": [
        "### Check Performance"
      ]
    },
    {
      "cell_type": "code",
      "metadata": {
        "id": "tRunZtP6hR6l"
      },
      "source": [
        "nmt_bow = nmt_bow.to(device)"
      ],
      "execution_count": null,
      "outputs": []
    },
    {
      "cell_type": "code",
      "metadata": {
        "id": "IiHMH8StZOl-",
        "colab": {
          "base_uri": "https://localhost:8080/"
        },
        "outputId": "ae9ed597-8f95-4443-812c-6ed983f5c3fa"
      },
      "source": [
        "print(nmt_bow.get_bleu_score(dataloader_dict['val']))"
      ],
      "execution_count": null,
      "outputs": [
        {
          "output_type": "stream",
          "text": [
            "21.839684366840807\n"
          ],
          "name": "stdout"
        }
      ]
    },
    {
      "cell_type": "markdown",
      "metadata": {
        "id": "A0HzZrhoZOl_"
      },
      "source": [
        "## Interacting with the system"
      ]
    },
    {
      "cell_type": "code",
      "metadata": {
        "collapsed": true,
        "id": "kaUNUwDcZOl_"
      },
      "source": [
        "from collections import namedtuple\n",
        "import numpy as np\n",
        "import matplotlib.pyplot as plt\n",
        "import matplotlib.ticker as ticker\n",
        "import copy\n",
        "%matplotlib inline\n",
        "\n",
        "\n",
        "def get_binned_bl_score(nmt_model, val_dataset):\n",
        "    \n",
        "    len_threshold = np.arange(0, 31, 5)\n",
        "    bin_bl_score = np.zeros(len(len_threshold));\n",
        "    \n",
        "    for i in tqdm.tqdm_notebook( range(1, len(len_threshold)), total = len(len_threshold)-1):\n",
        "        min_len = len_threshold[i-1]\n",
        "        max_len = len_threshold[i]\n",
        "        \n",
        "        temp_dataset = copy.deepcopy(val_dataset);\n",
        "        temp_dataset.main_df = temp_dataset.main_df[(temp_dataset.main_df['source_len'] > min_len) & (temp_dataset.main_df['source_len'] <= max_len)];\n",
        "        temp_loader = DataLoader(temp_dataset, batch_size = batchSize, \n",
        "                            collate_fn = partial(nmt_dataset.vocab_collate_func, MAX_LEN=100),\n",
        "                            shuffle = True, num_workers=0)\n",
        "        \n",
        "        bin_bl_score[i] = nmt_model.get_bleu_score(temp_loader);\n",
        "        \n",
        "    \n",
        "    len_threshold = len_threshold[1:]\n",
        "    bin_bl_score = bin_bl_score[1:]\n",
        "    \n",
        "    plt.plot(len_threshold, bin_bl_score, 'x-')\n",
        "    plt.ylim(0, np.max(bin_bl_score)+1)\n",
        "    plt.xlabel('len')\n",
        "    plt.ylabel('bl score')\n",
        "    \n",
        "    return len_threshold, bin_bl_score\n",
        "    \n",
        "        \n",
        "        \n",
        "    \n",
        "def showAttention(input_sentence, output_words, attentions):\n",
        "    # Set up figure with colorbar\n",
        "    fig = plt.figure()\n",
        "    ax = fig.add_subplot(111)\n",
        "    cax = ax.matshow(attentions, cmap='bone', aspect='auto')\n",
        "    fig.colorbar(cax)\n",
        "\n",
        "    # Set up axes\n",
        "    ax.set_xticklabels([''] + input_sentence.split(' ') +\n",
        "                       [global_variables.EOS_TOKEN], rotation=90)\n",
        "    ax.set_yticklabels([''] + output_words.split(' ')+\n",
        "                       [global_variables.EOS_TOKEN]);\n",
        "\n",
        "    # Show label at every tick\n",
        "    ax.xaxis.set_major_locator(ticker.MultipleLocator(1))\n",
        "    ax.yaxis.set_major_locator(ticker.MultipleLocator(1))\n",
        "\n",
        "    plt.show()\n",
        "\n",
        "def get_encoded_batch(sentence, lang_obj, use_cuda):\n",
        "    \"\"\" accepts only bsz = 1.\n",
        "        input: one sentence as a string\n",
        "        output: named tuple with vector and length\"\"\"\n",
        "    \n",
        "    sentence = sentence + ' ' + global_variables.EOS_TOKEN;\n",
        "    tensor = source_lang_obj.txt2vec(sentence).unsqueeze(0)\n",
        "    \n",
        "    device = torch.device('cuda') if use_cuda and torch.cuda.is_available() else torch.device('cpu');\n",
        "    \n",
        "    named_returntuple = namedtuple('namedtuple', ['text_vecs', 'text_lens', 'label_vecs', 'label_lens', 'use_packed'])\n",
        "    return_tuple = named_returntuple( tensor.to(device), \n",
        "                                     torch.from_numpy(np.array([tensor.shape[-1]])).to(device),\n",
        "                                     None,\n",
        "                                     None,\n",
        "                                     False );\n",
        "\n",
        "    return return_tuple\n",
        "\n",
        "def get_translation(nmt_model, sentence, lang_obj, use_cuda):\n",
        "    print('souce: ', sentence)\n",
        "    batch = get_encoded_batch(sentence, lang_obj, use_cuda);\n",
        "    \n",
        "    prediction, attn_scores_list = nmt_model.eval_step(batch, return_attn = True);\n",
        "    prediction = prediction[0];\n",
        "    print('prediction: ', prediction)\n",
        "    print('Google Translate on sentence (src->tgt): ', translator.translate(sentence, \n",
        "                                                     src = source_name,\n",
        "                                                     dest = target_name).text)\n",
        "    print('Google Translate on prediction (tgt->src): ', translator.translate(prediction, \n",
        "                                                     src = target_name,\n",
        "                                                     dest = source_name).text)\n",
        "\n",
        "    if attn_scores_list[0] is not None:\n",
        "        if attn_scores_list[0][0] is not None:\n",
        "            attn_matrix = [x[0].data.cpu().numpy() for x in attn_scores_list];\n",
        "            attn_matrix = np.stack(attn_matrix)[:,:, 0]\n",
        "            showAttention(sentence, prediction, attn_matrix)"
      ],
      "execution_count": null,
      "outputs": []
    },
    {
      "cell_type": "code",
      "metadata": {
        "id": "KHUlPiuQZOmA",
        "colab": {
          "base_uri": "https://localhost:8080/"
        },
        "outputId": "bef3dc93-63a9-41c2-ae77-a303df092779"
      },
      "source": [
        "get_translation(nmt_bow, 'how are you ?', source_lang_obj, use_cuda)"
      ],
      "execution_count": null,
      "outputs": [
        {
          "output_type": "stream",
          "text": [
            "souce:  how are you ?\n",
            "prediction:  comment etes vous ?\n",
            "GT on sentence (src->tgt):  Comment allez-vous ?\n",
            "GT on prediction (tgt->src):  How are you ?\n"
          ],
          "name": "stdout"
        }
      ]
    },
    {
      "cell_type": "code",
      "metadata": {
        "id": "1dmDfWfRZOmA",
        "colab": {
          "base_uri": "https://localhost:8080/"
        },
        "outputId": "2d2b5af7-6fbb-4ee6-a3db-15747853febe"
      },
      "source": [
        "get_translation(nmt_bow, 'are hello ? how you', source_lang_obj, use_cuda)"
      ],
      "execution_count": null,
      "outputs": [
        {
          "output_type": "stream",
          "text": [
            "souce:  are hello ? how you\n",
            "prediction:  comment etes vous en train de faire ?\n",
            "GT on sentence (src->tgt):  sont bonjour?comment vous\n",
            "GT on prediction (tgt->src):  How are you doing?\n"
          ],
          "name": "stdout"
        }
      ]
    },
    {
      "cell_type": "markdown",
      "metadata": {
        "id": "lB6EDxv3ZOmA"
      },
      "source": [
        "## RNN Encoder"
      ]
    },
    {
      "cell_type": "code",
      "metadata": {
        "collapsed": true,
        "id": "LIekpUdQZOmB"
      },
      "source": [
        "encoder_rnn = nnet_models_new.EncoderRNN(source_vocab, hidden_size, rnn_layers)"
      ],
      "execution_count": null,
      "outputs": []
    },
    {
      "cell_type": "code",
      "metadata": {
        "id": "fHgIg2LOZOmB",
        "colab": {
          "base_uri": "https://localhost:8080/"
        },
        "outputId": "3ce96dd8-e90a-4f46-9de9-27e1434544b6"
      },
      "source": [
        "print(encoder_rnn)"
      ],
      "execution_count": null,
      "outputs": [
        {
          "output_type": "stream",
          "text": [
            "EncoderRNN(\n",
            "  (embedding): Embedding(12392, 512, padding_idx=0)\n",
            "  (gru): GRU(512, 512, batch_first=True)\n",
            ")\n"
          ],
          "name": "stdout"
        }
      ]
    },
    {
      "cell_type": "code",
      "metadata": {
        "collapsed": true,
        "id": "cR-9EkuOZOmB"
      },
      "source": [
        "decoder_rnn = nnet_models_new.DecoderRNN(target_vocab, hidden_size, rnn_layers)"
      ],
      "execution_count": null,
      "outputs": []
    },
    {
      "cell_type": "code",
      "metadata": {
        "id": "ZOtXiF3rZOmB",
        "colab": {
          "base_uri": "https://localhost:8080/"
        },
        "outputId": "f5c19c9a-5c0f-443b-ba5b-97b083be51b9"
      },
      "source": [
        "print(decoder_rnn)"
      ],
      "execution_count": null,
      "outputs": [
        {
          "output_type": "stream",
          "text": [
            "DecoderRNN(\n",
            "  (embedding): Embedding(20111, 512)\n",
            "  (gru): GRU(512, 512, batch_first=True)\n",
            "  (out): Linear(in_features=512, out_features=20111, bias=True)\n",
            "  (softmax): LogSoftmax(dim=2)\n",
            ")\n"
          ],
          "name": "stdout"
        }
      ]
    },
    {
      "cell_type": "code",
      "metadata": {
        "collapsed": true,
        "id": "FNyFt8JiZOmB"
      },
      "source": [
        "nmt_rnn = nnet_models_new.seq2seq(encoder_rnn, decoder_rnn,\n",
        "                              lr = lr, \n",
        "                              use_cuda = use_cuda, \n",
        "                              hiddensize = hidden_size, \n",
        "                              numlayers = hidden_size, \n",
        "                              target_lang=dataset_dict['train'].target_lang_obj,\n",
        "                              longest_label = longest_label,\n",
        "                              clip = gradient_clip)"
      ],
      "execution_count": null,
      "outputs": []
    },
    {
      "cell_type": "code",
      "metadata": {
        "collapsed": true,
        "id": "5s6pbXs0ZOmC",
        "colab": {
          "base_uri": "https://localhost:8080/"
        },
        "outputId": "1d0a9c03-05d6-4269-ba73-a9dd3207e18c"
      },
      "source": [
        "train_again = False\n",
        "modelname = 'rnn_model'\n",
        "if os.path.exists(get_full_filepath(saved_models_dir, modelname)) and (not train_again):\n",
        "    nmt_rnn = torch.load(get_full_filepath(saved_models_dir, modelname)).to(device)\n",
        "else:\n",
        "    train_model(dataloader_dict, nmt_rnn, \n",
        "                      num_epochs = num_epochs, \n",
        "                      saved_model_path = saved_models_dir, \n",
        "                      enc_type = 'rnn_test')"
      ],
      "execution_count": null,
      "outputs": [
        {
          "output_type": "stream",
          "text": [
            "/usr/local/lib/python3.7/dist-packages/torch/serialization.py:658: SourceChangeWarning: source code of class 'torch.nn.modules.sparse.Embedding' has changed. you can retrieve the original source code by accessing the object's source attribute or set `torch.nn.Module.dump_patches = True` and use the patch tool to revert the changes.\n",
            "  warnings.warn(msg, SourceChangeWarning)\n",
            "/usr/local/lib/python3.7/dist-packages/torch/serialization.py:658: SourceChangeWarning: source code of class 'torch.nn.modules.rnn.GRU' has changed. you can retrieve the original source code by accessing the object's source attribute or set `torch.nn.Module.dump_patches = True` and use the patch tool to revert the changes.\n",
            "  warnings.warn(msg, SourceChangeWarning)\n",
            "/usr/local/lib/python3.7/dist-packages/torch/serialization.py:658: SourceChangeWarning: source code of class 'torch.nn.modules.linear.Linear' has changed. you can retrieve the original source code by accessing the object's source attribute or set `torch.nn.Module.dump_patches = True` and use the patch tool to revert the changes.\n",
            "  warnings.warn(msg, SourceChangeWarning)\n",
            "/usr/local/lib/python3.7/dist-packages/torch/serialization.py:658: SourceChangeWarning: source code of class 'torch.nn.modules.activation.LogSoftmax' has changed. you can retrieve the original source code by accessing the object's source attribute or set `torch.nn.Module.dump_patches = True` and use the patch tool to revert the changes.\n",
            "  warnings.warn(msg, SourceChangeWarning)\n",
            "/usr/local/lib/python3.7/dist-packages/torch/serialization.py:658: SourceChangeWarning: source code of class 'torch.nn.modules.loss.NLLLoss' has changed. you can retrieve the original source code by accessing the object's source attribute or set `torch.nn.Module.dump_patches = True` and use the patch tool to revert the changes.\n",
            "  warnings.warn(msg, SourceChangeWarning)\n"
          ],
          "name": "stderr"
        }
      ]
    },
    {
      "cell_type": "markdown",
      "metadata": {
        "id": "0ef4UDkbZOmC"
      },
      "source": [
        "### Check Performance"
      ]
    },
    {
      "cell_type": "code",
      "metadata": {
        "id": "fwsYorudZOmC",
        "outputId": "b6122030-c545-4b86-d8bd-4dbd0ff50d7b"
      },
      "source": [
        "print(nmt_rnn.get_bleu_score(dataloader_dict['val']))"
      ],
      "execution_count": null,
      "outputs": [
        {
          "output_type": "stream",
          "text": [
            "26.298743054003605\n"
          ],
          "name": "stdout"
        }
      ]
    },
    {
      "cell_type": "markdown",
      "metadata": {
        "id": "bZyNEKctZOmD"
      },
      "source": [
        "### Interacting with system"
      ]
    },
    {
      "cell_type": "code",
      "metadata": {
        "id": "aOAjSqmAZOmD",
        "colab": {
          "base_uri": "https://localhost:8080/"
        },
        "outputId": "324e6f5f-13f0-402f-c108-0ea0dae813a0"
      },
      "source": [
        "get_translation(nmt_rnn, 'how are you ?', source_lang_obj, use_cuda)"
      ],
      "execution_count": null,
      "outputs": [
        {
          "output_type": "stream",
          "text": [
            "souce:  how are you ?\n",
            "prediction:  comment etes vous vous en train de vous etre ?\n",
            "GT on sentence (src->tgt):  Comment allez-vous ?\n",
            "GT on prediction (tgt->src):  How are you doing to you?\n"
          ],
          "name": "stdout"
        }
      ]
    },
    {
      "cell_type": "code",
      "metadata": {
        "id": "1aTdsew3ZOmD",
        "colab": {
          "base_uri": "https://localhost:8080/"
        },
        "outputId": "ceac65a2-bb2e-41bd-807c-e26fa7588b96"
      },
      "source": [
        "get_translation(nmt_rnn, 'are hello ? how you', source_lang_obj, use_cuda)"
      ],
      "execution_count": null,
      "outputs": [
        {
          "output_type": "stream",
          "text": [
            "souce:  are hello ? how you\n",
            "prediction:  comment as tu fait ?\n",
            "GT on sentence (src->tgt):  sont bonjour?comment vous\n",
            "GT on prediction (tgt->src):  How did you do ?\n"
          ],
          "name": "stdout"
        }
      ]
    },
    {
      "cell_type": "code",
      "metadata": {
        "id": "ZL4IHpJ7ZOmD",
        "colab": {
          "base_uri": "https://localhost:8080/"
        },
        "outputId": "26277f67-246a-4eea-dad6-1338f5b817aa"
      },
      "source": [
        "get_translation(nmt_rnn, 'i know that the last thing you want to do is help me .', source_lang_obj, use_cuda)"
      ],
      "execution_count": null,
      "outputs": [
        {
          "output_type": "stream",
          "text": [
            "souce:  i know that the last thing you want to do is help me .\n",
            "prediction:  je sais que vous veuillez faire est ce que la derniere chose que moi .\n",
            "GT on sentence (src->tgt):  Je sais que la dernière chose que vous voulez faire est d'aider moi.\n",
            "GT on prediction (tgt->src):  I know you can do is what the last thing as me.\n"
          ],
          "name": "stdout"
        }
      ]
    },
    {
      "cell_type": "code",
      "metadata": {
        "id": "65MAgk6AZOmE",
        "colab": {
          "base_uri": "https://localhost:8080/",
          "height": 380,
          "referenced_widgets": [
            "3b345451c1cd4cca8de7056e4cc346dc",
            "c07558771b3a467d90de7830236e57d1",
            "82c27fc91e65493aba77765cc4a677ef",
            "931ba583c4624ec688fc788dc8c8be2d",
            "9d50b9acb9414030a220e8fe45cb1df8",
            "1900afe4fe1743e493f6aaf20bc3a87c",
            "f3280cb2ac08485dbe9608b501684ed2",
            "7ae0879d5afc479782ea18da465bfecd"
          ]
        },
        "outputId": "a2239856-68bd-4077-d476-0b2d85e11b58"
      },
      "source": [
        "rnn_len_threshold, rnn_bin_bl = get_binned_bl_score(nmt_rnn, dataset_dict['val'])"
      ],
      "execution_count": null,
      "outputs": [
        {
          "output_type": "stream",
          "text": [
            "/usr/local/lib/python3.7/dist-packages/ipykernel_launcher.py:14: TqdmDeprecationWarning: This function will be removed in tqdm==5.0.0\n",
            "Please use `tqdm.notebook.tqdm` instead of `tqdm.tqdm_notebook`\n",
            "  \n"
          ],
          "name": "stderr"
        },
        {
          "output_type": "display_data",
          "data": {
            "application/vnd.jupyter.widget-view+json": {
              "model_id": "3b345451c1cd4cca8de7056e4cc346dc",
              "version_minor": 0,
              "version_major": 2
            },
            "text/plain": [
              "HBox(children=(FloatProgress(value=0.0, max=6.0), HTML(value='')))"
            ]
          },
          "metadata": {
            "tags": []
          }
        },
        {
          "output_type": "stream",
          "text": [
            "\n"
          ],
          "name": "stdout"
        },
        {
          "output_type": "display_data",
          "data": {
            "image/png": "[encoded data removed]",
            "text/plain": [
              "<Figure size 432x288 with 1 Axes>"
            ]
          },
          "metadata": {
            "tags": [],
            "needs_background": "light"
          }
        }
      ]
    },
    {
      "cell_type": "markdown",
      "metadata": {
        "id": "XYYlXsjFZOmE"
      },
      "source": [
        "We work with a small training data and hence you see this drop in BLEU score for sentences of shorter length. We don't have enough data points with small sentence length"
      ]
    },
    {
      "cell_type": "markdown",
      "metadata": {
        "id": "JsytJyYFZOmE"
      },
      "source": [
        "## RNN Encoder + Source Side Attention"
      ]
    },
    {
      "cell_type": "markdown",
      "metadata": {
        "id": "ErXHSv3TZOmE"
      },
      "source": [
        "### Concepts:\n",
        "1. Context Vector which gives additional information from source side for decoding the next token. \n",
        "2. Fit context vector into decoding framework: <br>\n",
        "    a) Initiaze with 0 <br>\n",
        "    b) input to RNN is the concatenation of the input token and context vector <br>\n",
        "    c) output token decoded from context vector calculated from the hidden of previous timestep; i.e, context vector for the next timestep is used for decoding the current output\n",
        "3. Calculating the context vector. Explain attention module: <br>\n",
        "    a) hidden transformed to encoder hidden dimension using linear layer. This is your query vector. <br> \n",
        "    b) Value and Key vectors are the encoder outputs. <br>\n",
        "    c) Dot product. Raw Score. Softmax. Linear Combination. <br>\n",
        "    d) contactenated the linear combination vector with the input hidden from decoder. Pass it through a linear layer to project it back to decoder hidden dimension followed by a `tanh`.  \n",
        "\n",
        "    \n",
        "    "
      ]
    },
    {
      "cell_type": "markdown",
      "metadata": {
        "id": "OiYxvnPKZOmE"
      },
      "source": [
        "![SegmentLocal](attention.gif \"segment\")"
      ]
    },
    {
      "cell_type": "code",
      "metadata": {
        "collapsed": true,
        "id": "PykAY8cmZOmF"
      },
      "source": [
        "encoder_attention = True\n",
        "self_attention = False"
      ],
      "execution_count": null,
      "outputs": []
    },
    {
      "cell_type": "code",
      "metadata": {
        "collapsed": true,
        "id": "f0OmxgR8ZOmF"
      },
      "source": [
        "encoder_encoderattn = nnet_models_new.EncoderRNN(source_vocab, hidden_size, 1)"
      ],
      "execution_count": null,
      "outputs": []
    },
    {
      "cell_type": "code",
      "metadata": {
        "collapsed": true,
        "id": "wTlVgxarZOmF"
      },
      "source": [
        "decoder_encoderattn = nnet_models_new.Decoder_SelfAttn(output_size=target_vocab,\n",
        "                                 hidden_size=hidden_size, \n",
        "                                 encoder_attention = encoder_attention,\n",
        "                                 self_attention = self_attention)"
      ],
      "execution_count": null,
      "outputs": []
    },
    {
      "cell_type": "code",
      "metadata": {
        "collapsed": true,
        "id": "-Td0xVTpZOmG"
      },
      "source": [
        "nmt_encoderattn = nnet_models_new.seq2seq(encoder_encoderattn, decoder_encoderattn,\n",
        "                              lr = lr, \n",
        "                              use_cuda = use_cuda, \n",
        "                              hiddensize = hidden_size, \n",
        "                              numlayers = hidden_size, \n",
        "                              target_lang=dataset_dict['train'].target_lang_obj,\n",
        "                              longest_label = longest_label,\n",
        "                              clip = gradient_clip)"
      ],
      "execution_count": null,
      "outputs": []
    },
    {
      "cell_type": "code",
      "metadata": {
        "collapsed": true,
        "id": "P7P93shxZOmG",
        "colab": {
          "base_uri": "https://localhost:8080/"
        },
        "outputId": "090e1cdb-bb60-4334-e1b3-ba83062f81d5"
      },
      "source": [
        "train_again = False\n",
        "modelname = 'encoderattn_model'\n",
        "if os.path.exists(get_full_filepath(saved_models_dir, modelname)) and (not train_again):\n",
        "    nmt_encoderattn = torch.load(get_full_filepath(saved_models_dir, modelname))\n",
        "else:\n",
        "    train_model(dataloader_dict, nmt_encoderattn, \n",
        "                      num_epochs = num_epochs, \n",
        "                      saved_model_path = saved_models_dir, \n",
        "                      enc_type = 'encoderattn_test')"
      ],
      "execution_count": null,
      "outputs": [
        {
          "output_type": "stream",
          "text": [
            "/usr/local/lib/python3.7/dist-packages/torch/serialization.py:658: SourceChangeWarning: source code of class 'torch.nn.modules.sparse.Embedding' has changed. you can retrieve the original source code by accessing the object's source attribute or set `torch.nn.Module.dump_patches = True` and use the patch tool to revert the changes.\n",
            "  warnings.warn(msg, SourceChangeWarning)\n",
            "/usr/local/lib/python3.7/dist-packages/torch/serialization.py:658: SourceChangeWarning: source code of class 'torch.nn.modules.rnn.GRU' has changed. you can retrieve the original source code by accessing the object's source attribute or set `torch.nn.Module.dump_patches = True` and use the patch tool to revert the changes.\n",
            "  warnings.warn(msg, SourceChangeWarning)\n",
            "/usr/local/lib/python3.7/dist-packages/torch/serialization.py:658: SourceChangeWarning: source code of class 'torch.nn.modules.rnn.GRUCell' has changed. you can retrieve the original source code by accessing the object's source attribute or set `torch.nn.Module.dump_patches = True` and use the patch tool to revert the changes.\n",
            "  warnings.warn(msg, SourceChangeWarning)\n",
            "/usr/local/lib/python3.7/dist-packages/torch/serialization.py:658: SourceChangeWarning: source code of class 'torch.nn.modules.linear.Linear' has changed. you can retrieve the original source code by accessing the object's source attribute or set `torch.nn.Module.dump_patches = True` and use the patch tool to revert the changes.\n",
            "  warnings.warn(msg, SourceChangeWarning)\n",
            "/usr/local/lib/python3.7/dist-packages/torch/serialization.py:658: SourceChangeWarning: source code of class 'torch.nn.modules.activation.LogSoftmax' has changed. you can retrieve the original source code by accessing the object's source attribute or set `torch.nn.Module.dump_patches = True` and use the patch tool to revert the changes.\n",
            "  warnings.warn(msg, SourceChangeWarning)\n",
            "/usr/local/lib/python3.7/dist-packages/torch/serialization.py:658: SourceChangeWarning: source code of class 'torch.nn.modules.loss.NLLLoss' has changed. you can retrieve the original source code by accessing the object's source attribute or set `torch.nn.Module.dump_patches = True` and use the patch tool to revert the changes.\n",
            "  warnings.warn(msg, SourceChangeWarning)\n"
          ],
          "name": "stderr"
        }
      ]
    },
    {
      "cell_type": "markdown",
      "metadata": {
        "id": "mAGwbboNZOmG"
      },
      "source": [
        "### Check Performance"
      ]
    },
    {
      "cell_type": "code",
      "metadata": {
        "id": "GqpWB-t1ZOmG",
        "outputId": "0863427f-9a22-4802-a354-798900aef0ab"
      },
      "source": [
        "print(nmt_encoderattn.get_bleu_score(dataloader_dict['val']))"
      ],
      "execution_count": null,
      "outputs": [
        {
          "output_type": "stream",
          "text": [
            "38.72150872314742\n"
          ],
          "name": "stdout"
        }
      ]
    },
    {
      "cell_type": "markdown",
      "metadata": {
        "id": "nuhgf-DmZOmG"
      },
      "source": [
        "### BLEU vs Sentence Length"
      ]
    },
    {
      "cell_type": "code",
      "metadata": {
        "id": "30Mj8SdNZOmH",
        "colab": {
          "referenced_widgets": [
            "797b524531ec447583a18ca90eca1f42"
          ]
        },
        "outputId": "ab285eff-ad71-4203-d77f-68778c1651b0"
      },
      "source": [
        "attn_len_threshold, attn_bin_bl = get_binned_bl_score(nmt_encoderattn, dataset_dict['val'])"
      ],
      "execution_count": null,
      "outputs": [
        {
          "output_type": "stream",
          "text": [
            "/misc/vlgscratch4/BowmanGroup/pmh330/virtual_envs/venv_metaqa/lib/python3.6/site-packages/ipykernel_launcher.py:14: TqdmDeprecationWarning: This function will be removed in tqdm==5.0.0\n",
            "Please use `tqdm.notebook.tqdm` instead of `tqdm.tqdm_notebook`\n",
            "  \n"
          ],
          "name": "stderr"
        },
        {
          "output_type": "display_data",
          "data": {
            "application/vnd.jupyter.widget-view+json": {
              "model_id": "797b524531ec447583a18ca90eca1f42",
              "version_major": 2,
              "version_minor": 0
            },
            "text/plain": [
              "HBox(children=(FloatProgress(value=0.0, max=6.0), HTML(value='')))"
            ]
          },
          "metadata": {
            "tags": []
          }
        },
        {
          "output_type": "stream",
          "text": [
            "\n"
          ],
          "name": "stdout"
        },
        {
          "output_type": "display_data",
          "data": {
            "image/png": "[encoded data removed]",
            "text/plain": [
              "<Figure size 432x288 with 1 Axes>"
            ]
          },
          "metadata": {
            "tags": [],
            "needs_background": "light"
          }
        }
      ]
    },
    {
      "cell_type": "code",
      "metadata": {
        "id": "80pQUPoTZOmH",
        "outputId": "0be15cc2-f8ed-4f13-8345-0c3a0c8c4773"
      },
      "source": [
        "plt.plot(rnn_len_threshold, rnn_bin_bl, '--x', label = 'w/o attn')\n",
        "plt.plot(attn_len_threshold, attn_bin_bl, '--x', label = 'attn')\n",
        "plt.xlabel('len sentence')\n",
        "plt.ylabel('bl score')\n",
        "plt.legend()"
      ],
      "execution_count": null,
      "outputs": [
        {
          "output_type": "execute_result",
          "data": {
            "text/plain": [
              "<matplotlib.legend.Legend at 0x7f85b8c5b860>"
            ]
          },
          "metadata": {
            "tags": []
          },
          "execution_count": 56
        },
        {
          "output_type": "display_data",
          "data": {
            "image/png": "[encoded data removed]",
            "text/plain": [
              "<Figure size 432x288 with 1 Axes>"
            ]
          },
          "metadata": {
            "tags": [],
            "needs_background": "light"
          }
        }
      ]
    },
    {
      "cell_type": "markdown",
      "metadata": {
        "id": "4hvVLykyZOmH"
      },
      "source": [
        "### Interacting with system"
      ]
    },
    {
      "cell_type": "code",
      "metadata": {
        "id": "UbYhKGE7ZOmH",
        "colab": {
          "base_uri": "https://localhost:8080/",
          "height": 364
        },
        "outputId": "630eeff6-f22b-493f-b599-bd9d708641bf"
      },
      "source": [
        "get_translation(nmt_encoderattn, 'how are you ?', source_lang_obj, use_cuda)"
      ],
      "execution_count": null,
      "outputs": [
        {
          "output_type": "stream",
          "text": [
            "souce:  how are you ?\n",
            "prediction:  comment allez vous ?\n",
            "GT on sentence (src->tgt):  Comment allez-vous ?\n",
            "GT on prediction (tgt->src):  how are you ?\n"
          ],
          "name": "stdout"
        },
        {
          "output_type": "display_data",
          "data": {
            "image/png": "[encoded data removed]",
            "text/plain": [
              "<Figure size 432x288 with 2 Axes>"
            ]
          },
          "metadata": {
            "tags": [],
            "needs_background": "light"
          }
        }
      ]
    },
    {
      "cell_type": "code",
      "metadata": {
        "id": "4ZydL9PcZOmI",
        "colab": {
          "base_uri": "https://localhost:8080/",
          "height": 364
        },
        "outputId": "a56969c2-7133-401c-e898-13aaf2ea37b6"
      },
      "source": [
        "get_translation(nmt_encoderattn, 'she knows better than to argue with him .', source_lang_obj, use_cuda)"
      ],
      "execution_count": null,
      "outputs": [
        {
          "output_type": "stream",
          "text": [
            "souce:  she knows better than to argue with him .\n",
            "prediction:  elle sait mieux que de ne pas le disputer avec lui .\n",
            "GT on sentence (src->tgt):  Elle sait mieux que de discuter avec lui.\n",
            "GT on prediction (tgt->src):  She knows better than not competing with him.\n"
          ],
          "name": "stdout"
        },
        {
          "output_type": "display_data",
          "data": {
            "image/png": "[encoded data removed]",
            "text/plain": [
              "<Figure size 432x288 with 2 Axes>"
            ]
          },
          "metadata": {
            "tags": [],
            "needs_background": "light"
          }
        }
      ]
    },
    {
      "cell_type": "code",
      "metadata": {
        "id": "jlFMgY3eZOmI",
        "colab": {
          "base_uri": "https://localhost:8080/",
          "height": 372
        },
        "outputId": "90576128-5d9b-4a3b-a2e8-3ea721ec9426"
      },
      "source": [
        "get_translation(nmt_encoderattn, 'she s five years younger than me .', source_lang_obj, use_cuda)"
      ],
      "execution_count": null,
      "outputs": [
        {
          "output_type": "stream",
          "text": [
            "souce:  she s five years younger than me .\n",
            "prediction:  elle a cinq ans de moins que moi .\n",
            "GT on sentence (src->tgt):  Elle a cinq ans plus jeune que moi.\n",
            "GT on prediction (tgt->src):  She is five years old less than me.\n"
          ],
          "name": "stdout"
        },
        {
          "output_type": "display_data",
          "data": {
            "image/png": "[encoded data removed]",
            "text/plain": [
              "<Figure size 432x288 with 2 Axes>"
            ]
          },
          "metadata": {
            "tags": [],
            "needs_background": "light"
          }
        }
      ]
    },
    {
      "cell_type": "code",
      "metadata": {
        "id": "kHqCVQZIZOmI",
        "colab": {
          "base_uri": "https://localhost:8080/",
          "height": 364
        },
        "outputId": "2f62ac7f-018b-4b3d-f2f9-332bbd51336b"
      },
      "source": [
        "get_translation(nmt_encoderattn, 'i know that the last thing you want to do is help me .', source_lang_obj, use_cuda)"
      ],
      "execution_count": null,
      "outputs": [
        {
          "output_type": "stream",
          "text": [
            "souce:  i know that the last thing you want to do is help me .\n",
            "prediction:  je sais que la derniere chose que tu veuilles faire est de m aider .\n",
            "GT on sentence (src->tgt):  Je sais que la dernière chose que vous voulez faire est d'aider moi.\n",
            "GT on prediction (tgt->src):  I know the last thing you want to do is help me.\n"
          ],
          "name": "stdout"
        },
        {
          "output_type": "display_data",
          "data": {
            "image/png": "[encoded data removed]",
            "text/plain": [
              "<Figure size 432x288 with 2 Axes>"
            ]
          },
          "metadata": {
            "tags": [],
            "needs_background": "light"
          }
        }
      ]
    }
  ]
}